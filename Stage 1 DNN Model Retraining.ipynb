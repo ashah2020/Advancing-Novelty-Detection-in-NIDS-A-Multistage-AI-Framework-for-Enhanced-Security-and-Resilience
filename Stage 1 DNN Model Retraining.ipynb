{
 "cells": [
  {
   "cell_type": "code",
   "execution_count": 4,
   "id": "e50224e2",
   "metadata": {},
   "outputs": [],
   "source": [
    "## Importing Libraries\n",
    "from sklearn.neural_network import MLPClassifier\n",
    "import pandas as pd\n",
    "from sklearn.model_selection import train_test_split\n",
    "import numpy as np\n",
    "from sklearn.metrics import classification_report\n",
    "from sklearn.metrics import confusion_matrix\n",
    "import pickle\n",
    "\n",
    "import joblib\n",
    "import pickle\n",
    "from sklearn.utils import shuffle\n",
    "\n",
    "# from xgboost import XGBClassifier\n",
    "from tensorflow.keras import Sequential,layers, losses, optimizers\n",
    "from tensorflow.keras.layers import Dense\n",
    "import tensorflow as tf\n",
    "from tensorflow.keras.models import load_model\n",
    "import time"
   ]
  },
  {
   "cell_type": "code",
   "execution_count": 5,
   "id": "bc5fb12c",
   "metadata": {},
   "outputs": [],
   "source": [
    "## Loading the CICIDS2017 training dataset\n",
    "df_train = pd.read_csv(\"all_group_train_normalized.csv\")"
   ]
  },
  {
   "cell_type": "code",
   "execution_count": 6,
   "id": "ee8dc0a7",
   "metadata": {},
   "outputs": [
    {
     "data": {
      "text/plain": [
       "Benign          53432\n",
       "DoS              8906\n",
       "Web Attack       8906\n",
       "Infiltration     8905\n",
       "Port Scan        8905\n",
       "DDoS             8905\n",
       "Brute Force      8905\n",
       "Name: Label, dtype: int64"
      ]
     },
     "execution_count": 6,
     "metadata": {},
     "output_type": "execute_result"
    }
   ],
   "source": [
    "df_train['Label'].value_counts()"
   ]
  },
  {
   "cell_type": "code",
   "execution_count": 7,
   "id": "d638bf3f",
   "metadata": {},
   "outputs": [],
   "source": [
    "## Loading the CICIDS2017 testing dataset\n",
    "df_test = pd.read_csv(\"all_group_test_normalized.csv\")"
   ]
  },
  {
   "cell_type": "code",
   "execution_count": 8,
   "id": "6aacaa00",
   "metadata": {},
   "outputs": [
    {
     "name": "stdout",
     "output_type": "stream",
     "text": [
      "(3817, 1525)\n",
      "(3817, 1525)\n",
      "(3817, 1525)\n",
      "(3817, 1525)\n",
      "(3816, 1525)\n",
      "(3816, 1525)\n",
      "(22900, 1525)\n"
     ]
    }
   ],
   "source": [
    "## Extracting attacks from the testing data\n",
    "infiltration_attack = df_test[df_test['Label'] == 'Infiltration'].drop(['Label_binary','Label'], axis=1).iloc[:,0:1525]\n",
    "print(infiltration_attack.shape)\n",
    "portscan_attack = df_test[df_test['Label'] == 'Port Scan'].drop(['Label_binary','Label'], axis=1).iloc[:,0:1525]\n",
    "print(portscan_attack.shape)\n",
    "ddos_attack = df_test[df_test['Label'] == 'DDoS'].drop(['Label_binary','Label'], axis=1).iloc[:,0:1525]\n",
    "print(ddos_attack.shape)\n",
    "bruteforce_attack = df_test[df_test['Label'] == 'Brute Force'].drop(['Label_binary','Label'], axis=1).iloc[:,0:1525]\n",
    "print(bruteforce_attack.shape)\n",
    "dos_attack = df_test[df_test['Label'] == 'DoS'].drop(['Label_binary','Label'], axis=1).iloc[:,0:1525]\n",
    "print(dos_attack.shape)\n",
    "web_attack = df_test[df_test['Label'] == 'Web Attack'].drop(['Label_binary','Label'], axis=1).iloc[:,0:1525]\n",
    "print(web_attack.shape)\n",
    "benign_data = df_test[df_test['Label'] == 'Benign'].drop(['Label_binary','Label'], axis=1).iloc[:,0:1525]\n",
    "print(benign_data.shape)"
   ]
  },
  {
   "cell_type": "code",
   "execution_count": 10,
   "id": "3b58a00f",
   "metadata": {},
   "outputs": [],
   "source": [
    "## Loading the CICIDS 2018 training data\n",
    "df_test_2018 = pd.read_csv(\"all_group_train_normalized_2018.csv\")"
   ]
  },
  {
   "cell_type": "code",
   "execution_count": 11,
   "id": "7977f1e4",
   "metadata": {},
   "outputs": [],
   "source": [
    "df_test_2018 = df_test_2018.sample(frac = 1).reset_index(drop = True)"
   ]
  },
  {
   "cell_type": "code",
   "execution_count": 12,
   "id": "742f94cf",
   "metadata": {},
   "outputs": [],
   "source": [
    "## Loading the botnet data from CICIDS2017 emulating Zero day attack\n",
    "bot = pd.read_csv(\"botnet_train_normalized.csv\")\n",
    "bot_test = pd.read_csv(\"botnet_test_normalized.csv\")"
   ]
  },
  {
   "cell_type": "code",
   "execution_count": 13,
   "id": "753a70b8",
   "metadata": {},
   "outputs": [],
   "source": [
    "botnet = bot[bot['Label'] == 'Botnet'].drop(['Label'], axis=1).iloc[:,0:1525]\n",
    "botnet_test = bot_test[bot_test['Label'] == 'Botnet'].drop(['Label'], axis=1).iloc[:,0:1525]"
   ]
  },
  {
   "cell_type": "code",
   "execution_count": 14,
   "id": "5a9a91db",
   "metadata": {},
   "outputs": [],
   "source": [
    "X_train_bot = bot.iloc[:,0:1525]\n",
    "Y_train_bot = bot.iloc[:,1525:1526]"
   ]
  },
  {
   "cell_type": "code",
   "execution_count": 15,
   "id": "ad562e77",
   "metadata": {},
   "outputs": [],
   "source": [
    "X_train_2018 = df_test_2018.iloc[:,0:1525]\n",
    "Y_train_2018 = df_test_2018.iloc[:,1526:1527]"
   ]
  },
  {
   "cell_type": "code",
   "execution_count": 16,
   "id": "0f885539",
   "metadata": {},
   "outputs": [],
   "source": [
    "X_train_2017 = df_test.iloc[:,0:1525]\n",
    "Y_train_2017 = df_test.iloc[:,1526:1527]"
   ]
  },
  {
   "cell_type": "code",
   "execution_count": 19,
   "id": "80d374a9",
   "metadata": {},
   "outputs": [],
   "source": [
    "Y_train_bot.columns = ['Label_binary']"
   ]
  },
  {
   "cell_type": "code",
   "execution_count": 20,
   "id": "aad9551f",
   "metadata": {},
   "outputs": [
    {
     "name": "stderr",
     "output_type": "stream",
     "text": [
      "<ipython-input-20-7e9813a6ce09>:1: SettingWithCopyWarning: \n",
      "A value is trying to be set on a copy of a slice from a DataFrame\n",
      "\n",
      "See the caveats in the documentation: https://pandas.pydata.org/pandas-docs/stable/user_guide/indexing.html#returning-a-view-versus-a-copy\n",
      "  Y_train_bot.loc[Y_train_bot['Label_binary'] == 'Benign', 'Label_binary'] = 0\n",
      "<ipython-input-20-7e9813a6ce09>:2: SettingWithCopyWarning: \n",
      "A value is trying to be set on a copy of a slice from a DataFrame\n",
      "\n",
      "See the caveats in the documentation: https://pandas.pydata.org/pandas-docs/stable/user_guide/indexing.html#returning-a-view-versus-a-copy\n",
      "  Y_train_bot.loc[Y_train_bot['Label_binary'] == 'Botnet', 'Label_binary'] = 1\n"
     ]
    }
   ],
   "source": [
    "Y_train_bot.loc[Y_train_bot['Label_binary'] == 'Benign', 'Label_binary'] = 0\n",
    "Y_train_bot.loc[Y_train_bot['Label_binary'] == 'Botnet', 'Label_binary'] = 1"
   ]
  },
  {
   "cell_type": "code",
   "execution_count": 21,
   "id": "45da3a53",
   "metadata": {},
   "outputs": [],
   "source": [
    "Y_train_2017.loc[Y_train_2017['Label_binary'] == 'Benign', 'Label_binary'] = 0\n",
    "Y_train_2017.loc[Y_train_2017['Label_binary'] == 'Malicious', 'Label_binary'] = 1"
   ]
  },
  {
   "cell_type": "code",
   "execution_count": 22,
   "id": "1e8b50c0",
   "metadata": {},
   "outputs": [],
   "source": [
    "Y_train_2018.loc[Y_train_2018['Label_binary'] == 'Benign', 'Label_binary'] = 0\n",
    "Y_train_2018.loc[Y_train_2018['Label_binary'] == 'Malicious', 'Label_binary'] = 1"
   ]
  },
  {
   "cell_type": "code",
   "execution_count": 23,
   "id": "931675dd",
   "metadata": {},
   "outputs": [],
   "source": [
    "X_train_total = pd.concat([X_train_2017,X_train_2018,X_train_bot,X_train_bot])\n",
    "Y_train_total = pd.concat([Y_train_2017,Y_train_2018, Y_train_bot,Y_train_bot])"
   ]
  },
  {
   "cell_type": "code",
   "execution_count": 24,
   "id": "e85e09ab",
   "metadata": {},
   "outputs": [],
   "source": [
    "X_train_ = X_train_total.values.astype('float32')\n",
    "Y_train_ = Y_train_total.values.astype('float32')"
   ]
  },
  {
   "cell_type": "code",
   "execution_count": 25,
   "id": "51a6a8e6",
   "metadata": {},
   "outputs": [
    {
     "name": "stdout",
     "output_type": "stream",
     "text": [
      "(29116, 1525)\n",
      "(0, 1525)\n",
      "(29115, 1525)\n",
      "(29116, 1525)\n",
      "(29116, 1525)\n",
      "(29116, 1525)\n",
      "(145579, 1525)\n"
     ]
    }
   ],
   "source": [
    "## Extracting attacks from the CICIDS2018 dataset\n",
    "infiltration_attack_2018 = df_test_2018[df_test_2018['Label'] == 'Infiltration'].drop(['Label_binary','Label'], axis=1).iloc[:,0:1525]\n",
    "print(infiltration_attack_2018.shape)\n",
    "portscan_attack_2018 = df_test_2018[df_test_2018['Label'] == 'Port Scan'].drop(['Label_binary','Label'], axis=1).iloc[:,0:1525]\n",
    "print(portscan_attack_2018.shape)\n",
    "ddos_attack_2018 = df_test_2018[df_test_2018['Label'] == 'ddos'].drop(['Label_binary','Label'], axis=1).iloc[:,0:1525]\n",
    "print(ddos_attack_2018.shape)\n",
    "bruteforce_attack_2018 = df_test_2018[df_test_2018['Label'] == 'Brute Force'].drop(['Label_binary','Label'], axis=1).iloc[:,0:1525]\n",
    "print(bruteforce_attack_2018.shape)\n",
    "dos_attack_2018 = df_test_2018[df_test_2018['Label'] == 'DoS'].drop(['Label_binary','Label'], axis=1).iloc[:,0:1525]\n",
    "print(dos_attack_2018.shape)\n",
    "web_attack_2018 = df_test_2018[df_test_2018['Label'] == 'Web Attack'].drop(['Label_binary','Label'], axis=1).iloc[:,0:1525]\n",
    "print(web_attack_2018.shape)\n",
    "benign_data_2018 = df_test_2018[df_test_2018['Label'] == 'Benign'].drop(['Label_binary','Label'], axis=1).iloc[:,0:1525]\n",
    "print(benign_data_2018.shape)"
   ]
  },
  {
   "cell_type": "code",
   "execution_count": 26,
   "id": "e508af54",
   "metadata": {},
   "outputs": [],
   "source": [
    "## Prediction Function\n",
    "def predictions(y_test):\n",
    "    pred_list = []\n",
    "    for i in y_test:\n",
    "        if i > 0.5:\n",
    "            pred = [1]\n",
    "        else:\n",
    "            pred = [0]\n",
    "\n",
    "        pred_list.append(pred)\n",
    "    return pred_list"
   ]
  },
  {
   "cell_type": "code",
   "execution_count": 27,
   "id": "7b9338ab",
   "metadata": {},
   "outputs": [],
   "source": [
    "## Calculates detection accuracy\n",
    "def accuracy_calc(inf):\n",
    "    inf_ = predictions(inf)\n",
    "    cnt = 0\n",
    "    for i in inf_:\n",
    "        if i[0] != 1:\n",
    "            cnt += 1\n",
    "    acc = 1 - (cnt / len(inf))\n",
    "    return cnt, acc"
   ]
  },
  {
   "cell_type": "code",
   "execution_count": 29,
   "id": "1f29f101",
   "metadata": {},
   "outputs": [],
   "source": [
    "## Loading the Stage 1 baseline DNN\n",
    "stage1_DNN = tf.keras.models.load_model('Stage1_DNN.h5', compile = False)"
   ]
  },
  {
   "cell_type": "code",
   "execution_count": null,
   "id": "77b38f72",
   "metadata": {},
   "outputs": [],
   "source": [
    "## Testing the Baseline DNN against unseen CICIDS 2017 test data"
   ]
  },
  {
   "cell_type": "code",
   "execution_count": null,
   "id": "21ce21d1",
   "metadata": {},
   "outputs": [],
   "source": [
    "inf = stage1_DNN.predict(infiltration_attack.values.astype('float32'))"
   ]
  },
  {
   "cell_type": "code",
   "execution_count": null,
   "id": "3962a6dd",
   "metadata": {},
   "outputs": [],
   "source": [
    "cnt_inf, acc_inf = accuracy_calc(inf)\n",
    "print(cnt_inf)\n",
    "print(acc_inf)"
   ]
  },
  {
   "cell_type": "code",
   "execution_count": null,
   "id": "6f714562",
   "metadata": {},
   "outputs": [],
   "source": [
    "port = stage1_DNN.predict(portscan_attack.values.astype('float32'))"
   ]
  },
  {
   "cell_type": "code",
   "execution_count": null,
   "id": "141d4010",
   "metadata": {},
   "outputs": [],
   "source": [
    "cnt_port, acc_port = accuracy_calc(port)\n",
    "print(cnt_port)\n",
    "print(acc_port)"
   ]
  },
  {
   "cell_type": "code",
   "execution_count": null,
   "id": "a721b697",
   "metadata": {},
   "outputs": [],
   "source": [
    "dos = stage1_DNN.predict(dos_attack.values.astype('float32'))"
   ]
  },
  {
   "cell_type": "code",
   "execution_count": null,
   "id": "42ddb2d3",
   "metadata": {},
   "outputs": [],
   "source": [
    "cnt_dos, acc_dos = accuracy_calc(dos)\n",
    "print(cnt_dos)\n",
    "print(acc_dos)"
   ]
  },
  {
   "cell_type": "code",
   "execution_count": null,
   "id": "d76e2c5f",
   "metadata": {},
   "outputs": [],
   "source": [
    "ddos = stage1_DNN.predict(ddos_attack.values.astype('float32')) "
   ]
  },
  {
   "cell_type": "code",
   "execution_count": null,
   "id": "2ce585e4",
   "metadata": {},
   "outputs": [],
   "source": [
    "cnt_ddos, acc_ddos = accuracy_calc(ddos)\n",
    "print(cnt_ddos)\n",
    "print(acc_ddos)"
   ]
  },
  {
   "cell_type": "code",
   "execution_count": null,
   "id": "c645dcfc",
   "metadata": {},
   "outputs": [],
   "source": [
    "web = stage1_DNN.predict(web_attack.values.astype('float32'))"
   ]
  },
  {
   "cell_type": "code",
   "execution_count": null,
   "id": "d8d5a64a",
   "metadata": {},
   "outputs": [],
   "source": [
    "cnt_web, acc_web = accuracy_calc(web)\n",
    "print(cnt_web)\n",
    "print(acc_web)"
   ]
  },
  {
   "cell_type": "code",
   "execution_count": null,
   "id": "27b802e1",
   "metadata": {},
   "outputs": [],
   "source": [
    "brute = stage1_DNN.predict(bruteforce_attack.values.astype('float32'))"
   ]
  },
  {
   "cell_type": "code",
   "execution_count": null,
   "id": "9ec0f1e0",
   "metadata": {},
   "outputs": [],
   "source": [
    "cnt_brute, acc_brute = accuracy_calc(brute)\n",
    "print(cnt_brute)\n",
    "print(acc_brute)"
   ]
  },
  {
   "cell_type": "code",
   "execution_count": null,
   "id": "a96c7c5c",
   "metadata": {},
   "outputs": [],
   "source": [
    "ben = stage1_DNN.predict(benign_data.values.astype('float32'))"
   ]
  },
  {
   "cell_type": "code",
   "execution_count": null,
   "id": "3c37815b",
   "metadata": {},
   "outputs": [],
   "source": [
    "cnt_benign, acc_benign = accuracy_calc(ben)\n",
    "print(cnt_benign)\n",
    "print(1-acc_benign)"
   ]
  },
  {
   "cell_type": "code",
   "execution_count": null,
   "id": "ff47941c",
   "metadata": {},
   "outputs": [],
   "source": [
    "### Testing the Baseline DNN against CICIDS 2018 data"
   ]
  },
  {
   "cell_type": "code",
   "execution_count": null,
   "id": "8ace3ebd",
   "metadata": {},
   "outputs": [],
   "source": [
    "inf_2018 = stage1_DNN.predict(infiltration_attack_2018)\n",
    "dos_2018 = stage1_DNN.predict(dos_attack_2018)\n",
    "ddos_2018 = stage1_DNN.predict(ddos_attack_2018)\n",
    "web_2018 = stage1_DNN.predict(web_attack_2018)\n",
    "brute_2018 = stage1_DNN.predict(bruteforce_attack_2018)\n",
    "ben_2018 = stage1_DNN.predict(benign_data_2018)"
   ]
  },
  {
   "cell_type": "code",
   "execution_count": null,
   "id": "8ff95f47",
   "metadata": {},
   "outputs": [],
   "source": [
    "print('Infiltration')\n",
    "cnt_inf, acc_inf = accuracy_calc(inf_2018)\n",
    "print(cnt_inf)\n",
    "print(acc_inf)\n",
    "print('DoS')\n",
    "cnt_dos, acc_dos = accuracy_calc(dos_2018)\n",
    "print(cnt_dos)\n",
    "print(acc_dos)\n",
    "print('DDoS')\n",
    "cnt_ddos, acc_ddos = accuracy_calc(ddos_2018)\n",
    "print(cnt_ddos)\n",
    "print(acc_ddos)\n",
    "print('Web')\n",
    "cnt_web, acc_web = accuracy_calc(web_2018)\n",
    "print(cnt_web)\n",
    "print(acc_web)\n",
    "print('Brute')\n",
    "cnt_brute, acc_brute = accuracy_calc(brute_2018)\n",
    "print(cnt_brute)\n",
    "print(acc_brute)\n",
    "print('Benign')\n",
    "cnt_ben, acc_ben = accuracy_calc(ben_2018)\n",
    "print(cnt_ben)\n",
    "print(1-acc_ben)"
   ]
  },
  {
   "cell_type": "markdown",
   "id": "c0b0ab00",
   "metadata": {},
   "source": [
    "## Retraining With new data (CICIDS2018)"
   ]
  },
  {
   "cell_type": "code",
   "execution_count": 30,
   "id": "c7adde88",
   "metadata": {},
   "outputs": [],
   "source": [
    "## Layers that we selected can be modified from the base DNN\n",
    "mod_layers = [2,3]"
   ]
  },
  {
   "cell_type": "code",
   "execution_count": 31,
   "id": "682f9093",
   "metadata": {},
   "outputs": [],
   "source": [
    "## Neurons that are not trainable in the modifiable layers\n",
    "layer2_ind = [h for h in range(0,64,3)]\n",
    "layer3_ind = [h for h in range(0,32,3)]"
   ]
  },
  {
   "cell_type": "code",
   "execution_count": 32,
   "id": "d087db7a",
   "metadata": {},
   "outputs": [],
   "source": [
    "## Initializing the new model\n",
    "retrained_stage1 = tf.keras.Sequential()"
   ]
  },
  {
   "cell_type": "code",
   "execution_count": 33,
   "id": "85187765",
   "metadata": {},
   "outputs": [],
   "source": [
    "## Setting up the architecture of the new retrained model\n",
    "for i, layer in enumerate(stage1_DNN.layers):\n",
    "    if i not in mod_layers:\n",
    "        layer.trainable = False\n",
    "        retrained_stage1.add(layer)\n",
    "    else:\n",
    "        retrained_stage1.add(layer)\n",
    "        if i == 2:\n",
    "            for ind in range(0,64):\n",
    "                if ind in layer2_ind:\n",
    "                    retrained_stage1.layers[-1].kernel[ind]._trainable = False\n",
    "        if i == 3:\n",
    "            for ind in range(0,32):\n",
    "                if ind in layer3_ind:\n",
    "                    retrained_stage1.layers[-1].kernel[ind]._trainable = False\n",
    "            retrained_stage1.add(Dense(32, activation='relu'))\n",
    "        \n"
   ]
  },
  {
   "cell_type": "code",
   "execution_count": 34,
   "id": "7e870f53",
   "metadata": {},
   "outputs": [
    {
     "name": "stdout",
     "output_type": "stream",
     "text": [
      "Model: \"sequential\"\n",
      "_________________________________________________________________\n",
      "Layer (type)                 Output Shape              Param #   \n",
      "=================================================================\n",
      "dense_7 (Dense)              (None, 1525)              2327150   \n",
      "_________________________________________________________________\n",
      "dense_8 (Dense)              (None, 128)               195328    \n",
      "_________________________________________________________________\n",
      "dense_9 (Dense)              (None, 64)                8256      \n",
      "_________________________________________________________________\n",
      "dense_10 (Dense)             (None, 32)                2080      \n",
      "_________________________________________________________________\n",
      "dense (Dense)                (None, 32)                1056      \n",
      "_________________________________________________________________\n",
      "dense_11 (Dense)             (None, 1)                 33        \n",
      "=================================================================\n",
      "Total params: 2,533,903\n",
      "Trainable params: 11,392\n",
      "Non-trainable params: 2,522,511\n",
      "_________________________________________________________________\n"
     ]
    }
   ],
   "source": [
    "retrained_stage1.summary()"
   ]
  },
  {
   "cell_type": "code",
   "execution_count": 35,
   "id": "43d203e9",
   "metadata": {},
   "outputs": [
    {
     "name": "stdout",
     "output_type": "stream",
     "text": [
      "Epoch 1/50\n",
      "1369/1369 [==============================] - 8s 6ms/step - loss: 0.2929 - accuracy: 0.9004\n",
      "Epoch 2/50\n",
      "1369/1369 [==============================] - 7s 5ms/step - loss: 0.1766 - accuracy: 0.9319\n",
      "Epoch 3/50\n",
      "1369/1369 [==============================] - 7s 5ms/step - loss: 0.1566 - accuracy: 0.9402\n",
      "Epoch 4/50\n",
      "1369/1369 [==============================] - 8s 6ms/step - loss: 0.1462 - accuracy: 0.9439\n",
      "Epoch 5/50\n",
      "1369/1369 [==============================] - 7s 5ms/step - loss: 0.1383 - accuracy: 0.9469\n",
      "Epoch 6/50\n",
      "1369/1369 [==============================] - 8s 6ms/step - loss: 0.1324 - accuracy: 0.9490\n",
      "Epoch 7/50\n",
      "1369/1369 [==============================] - 8s 5ms/step - loss: 0.1275 - accuracy: 0.9508\n",
      "Epoch 8/50\n",
      "1369/1369 [==============================] - 8s 6ms/step - loss: 0.1231 - accuracy: 0.9525\n",
      "Epoch 9/50\n",
      "1369/1369 [==============================] - 8s 6ms/step - loss: 0.1197 - accuracy: 0.9538\n",
      "Epoch 10/50\n",
      "1369/1369 [==============================] - 8s 6ms/step - loss: 0.1155 - accuracy: 0.9555\n",
      "Epoch 11/50\n",
      "1369/1369 [==============================] - 9s 6ms/step - loss: 0.1131 - accuracy: 0.9562\n",
      "Epoch 12/50\n",
      "1369/1369 [==============================] - 8s 6ms/step - loss: 0.1109 - accuracy: 0.9571\n",
      "Epoch 13/50\n",
      "1369/1369 [==============================] - 8s 6ms/step - loss: 0.1078 - accuracy: 0.9583\n",
      "Epoch 14/50\n",
      "1369/1369 [==============================] - 8s 6ms/step - loss: 0.1054 - accuracy: 0.9591\n",
      "Epoch 15/50\n",
      "1369/1369 [==============================] - 8s 6ms/step - loss: 0.1026 - accuracy: 0.9601\n",
      "Epoch 16/50\n",
      "1369/1369 [==============================] - 8s 6ms/step - loss: 0.1014 - accuracy: 0.9606\n",
      "Epoch 17/50\n",
      "1369/1369 [==============================] - 8s 6ms/step - loss: 0.0999 - accuracy: 0.9613\n",
      "Epoch 18/50\n",
      "1369/1369 [==============================] - 8s 6ms/step - loss: 0.0977 - accuracy: 0.9620\n",
      "Epoch 19/50\n",
      "1369/1369 [==============================] - 8s 6ms/step - loss: 0.0963 - accuracy: 0.9626\n",
      "Epoch 20/50\n",
      "1369/1369 [==============================] - 8s 6ms/step - loss: 0.0947 - accuracy: 0.9629\n",
      "Epoch 21/50\n",
      "1369/1369 [==============================] - 8s 6ms/step - loss: 0.0939 - accuracy: 0.9633\n",
      "Epoch 22/50\n",
      "1369/1369 [==============================] - 8s 6ms/step - loss: 0.0926 - accuracy: 0.9638\n",
      "Epoch 23/50\n",
      "1369/1369 [==============================] - 8s 6ms/step - loss: 0.0919 - accuracy: 0.9643\n",
      "Epoch 24/50\n",
      "1369/1369 [==============================] - 8s 6ms/step - loss: 0.0906 - accuracy: 0.9648\n",
      "Epoch 25/50\n",
      "1369/1369 [==============================] - 8s 6ms/step - loss: 0.0894 - accuracy: 0.9654\n",
      "Epoch 26/50\n",
      "1369/1369 [==============================] - 8s 6ms/step - loss: 0.0886 - accuracy: 0.9653\n",
      "Epoch 27/50\n",
      "1369/1369 [==============================] - 8s 6ms/step - loss: 0.0880 - accuracy: 0.9657\n",
      "Epoch 28/50\n",
      "1369/1369 [==============================] - 8s 6ms/step - loss: 0.0866 - accuracy: 0.9660\n",
      "Epoch 29/50\n",
      "1369/1369 [==============================] - 8s 6ms/step - loss: 0.0864 - accuracy: 0.9664\n",
      "Epoch 30/50\n",
      "1369/1369 [==============================] - 8s 6ms/step - loss: 0.0851 - accuracy: 0.9666\n",
      "Epoch 31/50\n",
      "1369/1369 [==============================] - 9s 6ms/step - loss: 0.0851 - accuracy: 0.9667\n",
      "Epoch 32/50\n",
      "1369/1369 [==============================] - 9s 7ms/step - loss: 0.0841 - accuracy: 0.9673\n",
      "Epoch 33/50\n",
      "1369/1369 [==============================] - 9s 6ms/step - loss: 0.0832 - accuracy: 0.9673\n",
      "Epoch 34/50\n",
      "1369/1369 [==============================] - 8s 6ms/step - loss: 0.0826 - accuracy: 0.9678\n",
      "Epoch 35/50\n",
      "1369/1369 [==============================] - 8s 6ms/step - loss: 0.0816 - accuracy: 0.9682\n",
      "Epoch 36/50\n",
      "1369/1369 [==============================] - 8s 6ms/step - loss: 0.0807 - accuracy: 0.9684\n",
      "Epoch 37/50\n",
      "1369/1369 [==============================] - 8s 6ms/step - loss: 0.0812 - accuracy: 0.9683\n",
      "Epoch 38/50\n",
      "1369/1369 [==============================] - 8s 6ms/step - loss: 0.0799 - accuracy: 0.9688\n",
      "Epoch 39/50\n",
      "1369/1369 [==============================] - 8s 6ms/step - loss: 0.0787 - accuracy: 0.9693\n",
      "Epoch 40/50\n",
      "1369/1369 [==============================] - 8s 6ms/step - loss: 0.0792 - accuracy: 0.9691\n",
      "Epoch 41/50\n",
      "1369/1369 [==============================] - 8s 6ms/step - loss: 0.0784 - accuracy: 0.9694\n",
      "Epoch 42/50\n",
      "1369/1369 [==============================] - 8s 6ms/step - loss: 0.0778 - accuracy: 0.9697\n",
      "Epoch 43/50\n",
      "1369/1369 [==============================] - 8s 6ms/step - loss: 0.0767 - accuracy: 0.9700\n",
      "Epoch 44/50\n",
      "1369/1369 [==============================] - 8s 6ms/step - loss: 0.0767 - accuracy: 0.9701\n",
      "Epoch 45/50\n",
      "1369/1369 [==============================] - 8s 6ms/step - loss: 0.0761 - accuracy: 0.9704\n",
      "Epoch 46/50\n",
      "1369/1369 [==============================] - 8s 6ms/step - loss: 0.0759 - accuracy: 0.9705\n",
      "Epoch 47/50\n",
      "1369/1369 [==============================] - 8s 6ms/step - loss: 0.0755 - accuracy: 0.9705\n",
      "Epoch 48/50\n",
      "1369/1369 [==============================] - 8s 6ms/step - loss: 0.0741 - accuracy: 0.9711\n",
      "Epoch 49/50\n",
      "1369/1369 [==============================] - 8s 6ms/step - loss: 0.0740 - accuracy: 0.9710\n",
      "Epoch 50/50\n",
      "1369/1369 [==============================] - 8s 6ms/step - loss: 0.0740 - accuracy: 0.9712\n"
     ]
    }
   ],
   "source": [
    "## Compilation and training of the new retrained model\n",
    "start_time = time.time()\n",
    "retrained_stage1.compile(optimizer='adam', loss= 'binary_crossentropy', metrics=['accuracy'])\n",
    "retrained_stage1.fit(X_train_ , Y_train_, batch_size=256, epochs=50, shuffle=True)\n",
    "end_time = time.time()"
   ]
  },
  {
   "cell_type": "code",
   "execution_count": 46,
   "id": "1e323265",
   "metadata": {},
   "outputs": [],
   "source": [
    "## Saving the new model\n",
    "retrained_stage1.save('retrained_stage1_Hybrid.h5')"
   ]
  },
  {
   "cell_type": "markdown",
   "id": "7ea22dbf",
   "metadata": {},
   "source": [
    "## Testing the retrained model against zero-day and CICIDS 2018 data"
   ]
  },
  {
   "cell_type": "code",
   "execution_count": null,
   "id": "f0b386f9",
   "metadata": {},
   "outputs": [],
   "source": [
    "time_taken = end_time - start_time\n",
    "print(time_taken)"
   ]
  },
  {
   "cell_type": "code",
   "execution_count": 42,
   "id": "1cd6ff9d",
   "metadata": {},
   "outputs": [],
   "source": [
    "bot_ = retrained_stage1.predict(botnet_test.values.astype('float32'))"
   ]
  },
  {
   "cell_type": "code",
   "execution_count": 43,
   "id": "9ecf58cd",
   "metadata": {},
   "outputs": [
    {
     "name": "stdout",
     "output_type": "stream",
     "text": [
      "14\n",
      "0.9902506963788301\n"
     ]
    }
   ],
   "source": [
    "cnt_bot, acc_bot = accuracy_calc(bot_)\n",
    "print(cnt_bot)\n",
    "print(acc_bot)"
   ]
  },
  {
   "cell_type": "code",
   "execution_count": null,
   "id": "fcb7f1e5",
   "metadata": {},
   "outputs": [],
   "source": [
    "### CICIDS2018 Testing with retrained model"
   ]
  },
  {
   "cell_type": "code",
   "execution_count": 36,
   "id": "71e92d76",
   "metadata": {},
   "outputs": [],
   "source": [
    "inf_2018 = retrained_stage1.predict(infiltration_attack_2018)\n",
    "dos_2018 = retrained_stage1.predict(dos_attack_2018)\n",
    "ddos_2018 = retrained_stage1.predict(ddos_attack_2018)\n",
    "web_2018 = retrained_stage1.predict(web_attack_2018)\n",
    "brute_2018 = retrained_stage1.predict(bruteforce_attack_2018)\n",
    "ben_2018 = retrained_stage1.predict(benign_data_2018)"
   ]
  },
  {
   "cell_type": "code",
   "execution_count": 37,
   "id": "2b8833b0",
   "metadata": {},
   "outputs": [
    {
     "name": "stdout",
     "output_type": "stream",
     "text": [
      "Infiltration\n",
      "2753\n",
      "0.9054471768100014\n",
      "DoS\n",
      "387\n",
      "0.9867083390575628\n",
      "DDoS\n",
      "24\n",
      "0.9991756826378155\n",
      "Web\n",
      "447\n",
      "0.9846476164308284\n",
      "Brute\n",
      "285\n",
      "0.9902115675230114\n",
      "Benign\n",
      "140986\n",
      "0.9684501198661895\n"
     ]
    }
   ],
   "source": [
    "print('Infiltration')\n",
    "cnt_inf, acc_inf = accuracy_calc(inf_2018)\n",
    "print(cnt_inf)\n",
    "print(acc_inf)\n",
    "print('DoS')\n",
    "cnt_dos, acc_dos = accuracy_calc(dos_2018)\n",
    "print(cnt_dos)\n",
    "print(acc_dos)\n",
    "print('DDoS')\n",
    "cnt_ddos, acc_ddos = accuracy_calc(ddos_2018)\n",
    "print(cnt_ddos)\n",
    "print(acc_ddos)\n",
    "print('Web')\n",
    "cnt_web, acc_web = accuracy_calc(web_2018)\n",
    "print(cnt_web)\n",
    "print(acc_web)\n",
    "print('Brute')\n",
    "cnt_brute, acc_brute = accuracy_calc(brute_2018)\n",
    "print(cnt_brute)\n",
    "print(acc_brute)\n",
    "print('Benign')\n",
    "cnt_ben, acc_ben = accuracy_calc(ben_2018)\n",
    "print(cnt_ben)\n",
    "print(1-acc_ben)"
   ]
  },
  {
   "cell_type": "code",
   "execution_count": null,
   "id": "4925d502",
   "metadata": {},
   "outputs": [],
   "source": [
    "## CICIDS2017 Testing"
   ]
  },
  {
   "cell_type": "code",
   "execution_count": 44,
   "id": "8c3552a6",
   "metadata": {},
   "outputs": [],
   "source": [
    "port = retrained_stage1.predict(portscan_attack)\n",
    "inf = retrained_stage1.predict(infiltration_attack)\n",
    "dos = retrained_stage1.predict(dos_attack)\n",
    "ddos = retrained_stage1.predict(ddos_attack)\n",
    "web = retrained_stage1.predict(web_attack)\n",
    "brute = retrained_stage1.predict(bruteforce_attack)\n",
    "ben = retrained_stage1.predict(benign_data)"
   ]
  },
  {
   "cell_type": "code",
   "execution_count": 45,
   "id": "7458ca1f",
   "metadata": {},
   "outputs": [
    {
     "name": "stdout",
     "output_type": "stream",
     "text": [
      "Portscan\n",
      "4\n",
      "0.9989520565889441\n",
      "Infiltration\n",
      "41\n",
      "0.989258580036678\n",
      "DoS\n",
      "221\n",
      "0.9420859538784067\n",
      "DDoS\n",
      "71\n",
      "0.9813990044537595\n",
      "Web\n",
      "126\n",
      "0.9669811320754716\n",
      "Brute\n",
      "145\n",
      "0.9620120513492272\n",
      "Benign\n",
      "22769\n",
      "0.9942794759825327\n"
     ]
    }
   ],
   "source": [
    "print('Portscan')\n",
    "cnt_port, acc_port = accuracy_calc(port)\n",
    "print(cnt_port)\n",
    "print(acc_port)\n",
    "print('Infiltration')\n",
    "cnt_inf, acc_inf = accuracy_calc(inf)\n",
    "print(cnt_inf)\n",
    "print(acc_inf)\n",
    "print('DoS')\n",
    "cnt_dos, acc_dos = accuracy_calc(dos)\n",
    "print(cnt_dos)\n",
    "print(acc_dos)\n",
    "print('DDoS')\n",
    "cnt_ddos, acc_ddos = accuracy_calc(ddos)\n",
    "print(cnt_ddos)\n",
    "print(acc_ddos)\n",
    "print('Web')\n",
    "cnt_web, acc_web = accuracy_calc(web)\n",
    "print(cnt_web)\n",
    "print(acc_web)\n",
    "print('Brute')\n",
    "cnt_brute, acc_brute = accuracy_calc(brute)\n",
    "print(cnt_brute)\n",
    "print(acc_brute)\n",
    "print('Benign')\n",
    "cnt_ben, acc_ben = accuracy_calc(ben)\n",
    "print(cnt_ben)\n",
    "print(1-acc_ben)"
   ]
  },
  {
   "cell_type": "code",
   "execution_count": null,
   "id": "c00f8009",
   "metadata": {},
   "outputs": [],
   "source": []
  },
  {
   "cell_type": "code",
   "execution_count": null,
   "id": "c15f49c2",
   "metadata": {},
   "outputs": [],
   "source": []
  },
  {
   "cell_type": "code",
   "execution_count": null,
   "id": "6b87316c",
   "metadata": {},
   "outputs": [],
   "source": []
  }
 ],
 "metadata": {
  "kernelspec": {
   "display_name": "Python 3",
   "language": "python",
   "name": "python3"
  },
  "language_info": {
   "codemirror_mode": {
    "name": "ipython",
    "version": 3
   },
   "file_extension": ".py",
   "mimetype": "text/x-python",
   "name": "python",
   "nbconvert_exporter": "python",
   "pygments_lexer": "ipython3",
   "version": "3.8.5"
  }
 },
 "nbformat": 4,
 "nbformat_minor": 5
}
