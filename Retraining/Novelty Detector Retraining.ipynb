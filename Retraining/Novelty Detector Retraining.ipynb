{
 "cells": [
  {
   "cell_type": "code",
   "execution_count": null,
   "id": "e50224e2",
   "metadata": {},
   "outputs": [],
   "source": [
    "from sklearn.neural_network import MLPClassifier\n",
    "import pandas as pd\n",
    "from sklearn.model_selection import train_test_split\n",
    "import numpy as np\n",
    "from sklearn.metrics import classification_report\n",
    "from sklearn.metrics import confusion_matrix\n",
    "import pickle\n",
    "from sklearn.tree import DecisionTreeClassifier\n",
    "from sklearn.linear_model import LogisticRegression\n",
    "from sklearn.svm import SVC\n",
    "import joblib\n",
    "import pickle\n",
    "from sklearn.utils import shuffle\n",
    "from sklearn.ensemble import RandomForestClassifier\n",
    "from tensorflow.keras import Sequential,layers, losses, optimizers\n",
    "from tensorflow.keras.layers import Dense\n",
    "import tensorflow as tf\n",
    "import time"
   ]
  },
  {
   "cell_type": "code",
   "execution_count": null,
   "id": "bc5fb12c",
   "metadata": {},
   "outputs": [],
   "source": [
    "df_train = pd.read_csv(\"Malicious_Packet_Detector_Training.csv\")"
   ]
  },
  {
   "cell_type": "code",
   "execution_count": null,
   "id": "d638bf3f",
   "metadata": {},
   "outputs": [],
   "source": [
    "df_test = pd.read_csv(\"Malicious_Packet_Detector_Testing.csv\")"
   ]
  },
  {
   "cell_type": "code",
   "execution_count": null,
   "id": "6aacaa00",
   "metadata": {},
   "outputs": [],
   "source": [
    "infiltration_attack = df_test[df_test['Label'] == 'Infiltration'].drop(['Label_binary','Label'], axis=1).iloc[:,0:200]\n",
    "print(infiltration_attack.shape)\n",
    "portscan_attack = df_test[df_test['Label'] == 'Port Scan'].drop(['Label_binary','Label'], axis=1).iloc[:,0:200]\n",
    "print(portscan_attack.shape)\n",
    "ddos_attack = df_test[df_test['Label'] == 'DDoS'].drop(['Label_binary','Label'], axis=1).iloc[:,0:200]\n",
    "print(ddos_attack.shape)\n",
    "bruteforce_attack = df_test[df_test['Label'] == 'Brute Force'].drop(['Label_binary','Label'], axis=1).iloc[:,0:200]\n",
    "print(bruteforce_attack.shape)\n",
    "dos_attack = df_test[df_test['Label'] == 'DoS'].drop(['Label_binary','Label'], axis=1).iloc[:,0:200]\n",
    "print(dos_attack.shape)\n",
    "web_attack = df_test[df_test['Label'] == 'Web Attack'].drop(['Label_binary','Label'], axis=1).iloc[:,0:200]\n",
    "print(web_attack.shape)\n",
    "benign_data = df_test[df_test['Label'] == 'Benign'].drop(['Label_binary','Label'], axis=1).iloc[:,0:200]\n",
    "print(benign_data.shape)"
   ]
  },
  {
   "cell_type": "code",
   "execution_count": null,
   "id": "3b58a00f",
   "metadata": {},
   "outputs": [],
   "source": [
    "df_test_2018 = pd.read_csv(\"Malicious_Packet_Detector_Testing_2018.csv\")"
   ]
  },
  {
   "cell_type": "code",
   "execution_count": null,
   "id": "dd5e3271",
   "metadata": {},
   "outputs": [],
   "source": [
    "df_test_2018 = df_test_2018.sample(frac = 1).reset_index(drop = True)"
   ]
  },
  {
   "cell_type": "code",
   "execution_count": null,
   "id": "9b4049c6",
   "metadata": {},
   "outputs": [],
   "source": [
    "df_test_2018"
   ]
  },
  {
   "cell_type": "code",
   "execution_count": null,
   "id": "28e567e3",
   "metadata": {},
   "outputs": [],
   "source": [
    "X_train_2018 = df_test_2018.iloc[:,0:1525]\n",
    "Y_train_2018 = df_test_2018.iloc[:,1526:1527]"
   ]
  },
  {
   "cell_type": "code",
   "execution_count": null,
   "id": "ac7d864b",
   "metadata": {},
   "outputs": [],
   "source": [
    "X_train_2017 = df_test.iloc[:,0:1525]\n",
    "Y_train_2017 = df_test.iloc[:,1526:1527]"
   ]
  },
  {
   "cell_type": "code",
   "execution_count": null,
   "id": "6a88af4e",
   "metadata": {},
   "outputs": [],
   "source": [
    "Y_train_2017.loc[Y_train_2017['Label_binary'] == 'Benign', 'Label_binary'] = 0\n",
    "Y_train_2017.loc[Y_train_2017['Label_binary'] == 'Malicious', 'Label_binary'] = 1"
   ]
  },
  {
   "cell_type": "code",
   "execution_count": null,
   "id": "8a817f21",
   "metadata": {},
   "outputs": [],
   "source": [
    "Y_train_2018.loc[Y_train_2018['Label_binary'] == 'Benign', 'Label_binary'] = 0\n",
    "Y_train_2018.loc[Y_train_2018['Label_binary'] == 'Malicious', 'Label_binary'] = 1"
   ]
  },
  {
   "cell_type": "code",
   "execution_count": null,
   "id": "89982815",
   "metadata": {},
   "outputs": [],
   "source": [
    "X_train_total = pd.concat([X_train_2017,X_train_2018])\n",
    "Y_train_total = pd.concat([Y_train_2017,Y_train_2018])"
   ]
  },
  {
   "cell_type": "code",
   "execution_count": null,
   "id": "2ef3e195",
   "metadata": {},
   "outputs": [],
   "source": [
    "X_train_ = X_train_total.values.astype('float32')\n",
    "Y_train_ = Y_train_total.values.astype('float32')"
   ]
  },
  {
   "cell_type": "code",
   "execution_count": null,
   "id": "6c320991",
   "metadata": {},
   "outputs": [],
   "source": []
  },
  {
   "cell_type": "code",
   "execution_count": null,
   "id": "51a6a8e6",
   "metadata": {},
   "outputs": [],
   "source": [
    "infiltration_attack_2018 = df_test_2018[df_test_2018['Label'] == 'Infiltration'].drop(['Label_binary','Label'], axis=1).iloc[:,0:500]\n",
    "print(infiltration_attack_2018.shape)\n",
    "portscan_attack_2018 = df_test_2018[df_test_2018['Label'] == 'Port Scan'].drop(['Label_binary','Label'], axis=1).iloc[:,0:500]\n",
    "print(portscan_attack_2018.shape)\n",
    "ddos_attack_2018 = df_test_2018[df_test_2018['Label'] == 'ddos'].drop(['Label_binary','Label'], axis=1).iloc[:,0:500]\n",
    "print(ddos_attack_2018.shape)\n",
    "bruteforce_attack_2018 = df_test_2018[df_test_2018['Label'] == 'Brute Force'].drop(['Label_binary','Label'], axis=1).iloc[:,0:500]\n",
    "print(bruteforce_attack_2018.shape)\n",
    "dos_attack_2018 = df_test_2018[df_test_2018['Label'] == 'DoS'].drop(['Label_binary','Label'], axis=1).iloc[:,0:500]\n",
    "print(dos_attack_2018.shape)\n",
    "web_attack_2018 = df_test_2018[df_test_2018['Label'] == 'Web Attack'].drop(['Label_binary','Label'], axis=1).iloc[:,0:500]\n",
    "print(web_attack_2018.shape)\n",
    "benign_data_2018 = df_test_2018[df_test_2018['Label'] == 'Benign'].drop(['Label_binary','Label'], axis=1).iloc[:,0:500]\n",
    "print(benign_data_2018.shape)"
   ]
  },
  {
   "cell_type": "code",
   "execution_count": null,
   "id": "2638e384",
   "metadata": {},
   "outputs": [],
   "source": [
    "stage3_AE = tf.keras.models.load_model('Novelty_Detector_Baseline.h5', compile = False)"
   ]
  },
  {
   "cell_type": "code",
   "execution_count": null,
   "id": "dc9a28bd",
   "metadata": {},
   "outputs": [],
   "source": [
    "def recon_metrices(data, reconstructed_data):\n",
    "\n",
    "    maes = np.absolute(data.values - reconstructed_data)\n",
    "    \n",
    "    for j in range(len(maes)):\n",
    "        m = maes[j]\n",
    "        d = data.values[j]\n",
    "        r = reconstructed_data[j]\n",
    "        for el in range(len(m)):\n",
    "            if r[el] == 0 or d[el] == 0:\n",
    "                m[el] = 0\n",
    " \n",
    "            \n",
    "    mae_byte_list = []\n",
    "    ip_mae_list = []\n",
    "    tcp_header_mae_list = []\n",
    "    tcp_options_mae_list = []\n",
    "    tcp_segment_mae_list = []\n",
    "    i=0\n",
    "    for mae in maes:\n",
    "#         print(np.count_nonzero(reconstructed_data[i]))\n",
    "#         print(np.count_nonzero(data.values[i]))\n",
    "#         print(np.max(np.count_nonzero(reconstructed_data[i]),np.count_nonzero(data.values[i])))\n",
    "        mae_byte = sum(mae) / np.count_nonzero(mae)\n",
    "        mae_byte_list.append(mae_byte)\n",
    "        i += 1\n",
    "    return mae_byte_list"
   ]
  },
  {
   "cell_type": "code",
   "execution_count": null,
   "id": "3347540a",
   "metadata": {},
   "outputs": [],
   "source": [
    "bot = pd.read_csv('botnet_test_normalized.csv')\n",
    "bot_attack_2017 = bot[bot['Label'] == 'Botnet'].drop(['Label'], axis=1).iloc[:,0:500]\n",
    "print(bot_attack_2017.shape)"
   ]
  },
  {
   "cell_type": "code",
   "execution_count": null,
   "id": "8e2e1d87",
   "metadata": {},
   "outputs": [],
   "source": [
    "bot = stage3_AE.predict(bot_attack_2017)"
   ]
  },
  {
   "cell_type": "code",
   "execution_count": null,
   "id": "a38c5d12",
   "metadata": {},
   "outputs": [],
   "source": [
    "mae_byte_list = recon_metrices(bot_attack_2017,bot)"
   ]
  },
  {
   "cell_type": "code",
   "execution_count": null,
   "id": "310a61b1",
   "metadata": {},
   "outputs": [],
   "source": [
    "## Classification\n",
    "count_99 = len([i for i in mae_byte_list if i > 0.07])\n",
    "print(count_99 / len(mae_byte_list))"
   ]
  },
  {
   "cell_type": "code",
   "execution_count": null,
   "id": "3527b235",
   "metadata": {},
   "outputs": [],
   "source": [
    "inf = stage3_AE.predict(infiltration_attack_2018)"
   ]
  },
  {
   "cell_type": "code",
   "execution_count": null,
   "id": "9b24a54d",
   "metadata": {},
   "outputs": [],
   "source": [
    "mae_byte_list = recon_metrices(infiltration_attack_2018,inf)"
   ]
  },
  {
   "cell_type": "code",
   "execution_count": null,
   "id": "727837e4",
   "metadata": {},
   "outputs": [],
   "source": [
    "## Classification\n",
    "count_99 = len([i for i in mae_byte_list if i > 0.09])\n",
    "print(count_99 / len(mae_byte_list))"
   ]
  },
  {
   "cell_type": "code",
   "execution_count": null,
   "id": "96738787",
   "metadata": {},
   "outputs": [],
   "source": [
    "stage3_AE.summary()"
   ]
  },
  {
   "cell_type": "code",
   "execution_count": null,
   "id": "c6b19ee4",
   "metadata": {},
   "outputs": [],
   "source": [
    "### Retraining with CICIDS 2018 data"
   ]
  },
  {
   "cell_type": "code",
   "execution_count": null,
   "id": "24d36555",
   "metadata": {},
   "outputs": [],
   "source": [
    "mod_layers = [5,6,8,9]"
   ]
  },
  {
   "cell_type": "code",
   "execution_count": null,
   "id": "52c383b8",
   "metadata": {},
   "outputs": [],
   "source": [
    "layer5_ind = [h for h in range(0,250,3)]\n",
    "layer6_ind = [h for h in range(0,125,3)]\n",
    "layer8_ind = [h for h in range(0,125,3)]\n",
    "layer9_ind = [h for h in range(0,250,3)]"
   ]
  },
  {
   "cell_type": "code",
   "execution_count": null,
   "id": "a13adec8",
   "metadata": {},
   "outputs": [],
   "source": [
    "retrained_stage3 = tf.keras.Sequential()"
   ]
  },
  {
   "cell_type": "code",
   "execution_count": null,
   "id": "22907efd",
   "metadata": {},
   "outputs": [],
   "source": [
    "for i, layer in enumerate(stage3_AE.layers):\n",
    "    if i not in mod_layers:\n",
    "        layer.trainable = False\n",
    "        retrained_stage3.add(layer)\n",
    "    else:\n",
    "        retrained_stage3.add(layer)\n",
    "        if i == 5:\n",
    "            for ind in range(0,250):\n",
    "                if ind in layer5_ind:\n",
    "                    retrained_stage3.layers[-1].kernel[ind]._trainable = False\n",
    "        if i == 6:\n",
    "            for ind in range(0,125):\n",
    "                if ind in layer6_ind:\n",
    "                    retrained_stage3.layers[-1].kernel[ind]._trainable = False\n",
    "                    \n",
    "        if i == 8:\n",
    "            for ind in range(0,62):\n",
    "                if ind in layer8_ind:\n",
    "                    retrained_stage3.layers[-1].kernel[ind]._trainable = False\n",
    "        \n",
    "        if i == 9:\n",
    "            for ind in range(0,125):\n",
    "                if ind in layer9_ind:\n",
    "                    retrained_stage3.layers[-1].kernel[ind]._trainable = False"
   ]
  },
  {
   "cell_type": "code",
   "execution_count": null,
   "id": "6e0370c2",
   "metadata": {},
   "outputs": [],
   "source": [
    "retrained_stage3.summary()"
   ]
  },
  {
   "cell_type": "code",
   "execution_count": null,
   "id": "944609ac",
   "metadata": {},
   "outputs": [],
   "source": [
    "df_adv = pd.read_csv(\"adv_examples_all_allDNN_bigger.csv\")\n",
    "df_adv_syn = pd.read_csv(\"Adv_all_DNN_incremental.csv\")"
   ]
  },
  {
   "cell_type": "code",
   "execution_count": null,
   "id": "d81ef954",
   "metadata": {},
   "outputs": [],
   "source": [
    "df_adv_syn= df_adv_syn.loc[:, ~df_adv_syn.columns.str.contains('^Unnamed')]"
   ]
  },
  {
   "cell_type": "code",
   "execution_count": null,
   "id": "006a3163",
   "metadata": {},
   "outputs": [],
   "source": [
    "adv_train = df_adv.iloc[:,:500]"
   ]
  },
  {
   "cell_type": "code",
   "execution_count": null,
   "id": "75f4c374",
   "metadata": {},
   "outputs": [],
   "source": [
    "adv_syn = df_adv_syn.iloc[:,:500]"
   ]
  },
  {
   "cell_type": "code",
   "execution_count": null,
   "id": "26a8c645",
   "metadata": {},
   "outputs": [],
   "source": [
    "adv_total = pd.concat([adv_train,adv_syn])"
   ]
  },
  {
   "cell_type": "code",
   "execution_count": null,
   "id": "f1e14323",
   "metadata": {},
   "outputs": [],
   "source": [
    "start_time = time.time()\n",
    "retrained_stage3.compile(optimizer='adam', loss='mae')\n",
    "retrained_stage3.fit(adv_total , adv_total , batch_size=256, epochs=500, shuffle=True)\n",
    "end_time = time.time()"
   ]
  },
  {
   "cell_type": "code",
   "execution_count": null,
   "id": "dd4f7ac1",
   "metadata": {},
   "outputs": [],
   "source": [
    "retrained_stage3.save('Retrained_Novelty_Detector.h5')"
   ]
  },
  {
   "cell_type": "code",
   "execution_count": null,
   "id": "a029d722",
   "metadata": {},
   "outputs": [],
   "source": [
    "adv_test = retrained_stage3.predict(adv_syn)"
   ]
  },
  {
   "cell_type": "code",
   "execution_count": null,
   "id": "947ba1a5",
   "metadata": {},
   "outputs": [],
   "source": [
    "time_taken = end_time - start_time\n",
    "print(time_taken)"
   ]
  },
  {
   "cell_type": "code",
   "execution_count": null,
   "id": "6fcc797e",
   "metadata": {},
   "outputs": [],
   "source": [
    "mae_byte_list = recon_metrices(adv_syn,adv_test)"
   ]
  },
  {
   "cell_type": "code",
   "execution_count": null,
   "id": "e8c59e8e",
   "metadata": {},
   "outputs": [],
   "source": [
    "mae_byte_avg = sum(mae_byte_list) / len(mae_byte_list)\n",
    "print('mae_byte_avg', mae_byte_avg)\n",
    "mae_byte_per_95 = np.percentile(mae_byte_list, 99)\n",
    "print('mae_byte_99_percentile', mae_byte_per_95)\n",
    "mae_byte_per_95 = np.percentile(mae_byte_list, 95)\n",
    "print('mae_byte_95_percentile', mae_byte_per_95)\n",
    "mae_byte_per_95 = np.percentile(mae_byte_list, 90)\n",
    "print('mae_byte_90_percentile', mae_byte_per_95)"
   ]
  },
  {
   "cell_type": "code",
   "execution_count": null,
   "id": "2a0b779a",
   "metadata": {},
   "outputs": [],
   "source": []
  },
  {
   "cell_type": "code",
   "execution_count": null,
   "id": "c5910d7f",
   "metadata": {},
   "outputs": [],
   "source": [
    "## CICIDS2017 and CICIDS2018 Testing retrained model"
   ]
  },
  {
   "cell_type": "code",
   "execution_count": null,
   "id": "82c3a8e1",
   "metadata": {},
   "outputs": [],
   "source": [
    "inf_ = retrained_stage2.predict(infiltration_attack)\n",
    "port_ = retrained_stage2.predict(portscan_attack)\n",
    "dos_ = retrained_stage2.predict(dos_attack)\n",
    "ddos_ = retrained_stage2.predict(ddos_attack)\n",
    "web_ = retrained_stage2.predict(web_attack)\n",
    "brute_ = retrained_stage2.predict(bruteforce_attack)\n",
    "ben_ = retrained_stage2.predict(benign_data)"
   ]
  },
  {
   "cell_type": "code",
   "execution_count": null,
   "id": "4baac315",
   "metadata": {},
   "outputs": [],
   "source": [
    "mae_byte_list = recon_metrices(benign_data,ben_)"
   ]
  },
  {
   "cell_type": "code",
   "execution_count": null,
   "id": "1c7a8784",
   "metadata": {},
   "outputs": [],
   "source": [
    "mae_byte_avg = sum(mae_byte_list) / len(mae_byte_list)\n",
    "print('mae_byte_avg', mae_byte_avg)\n",
    "mae_byte_per_95 = np.percentile(mae_byte_list, 99)\n",
    "print('mae_byte_99_percentile', mae_byte_per_95)\n",
    "mae_byte_per_95 = np.percentile(mae_byte_list, 95)\n",
    "print('mae_byte_95_percentile', mae_byte_per_95)\n",
    "mae_byte_per_95 = np.percentile(mae_byte_list, 90)\n",
    "print('mae_byte_90_percentile', mae_byte_per_95)"
   ]
  },
  {
   "cell_type": "code",
   "execution_count": null,
   "id": "1afbdec4",
   "metadata": {},
   "outputs": [],
   "source": []
  },
  {
   "cell_type": "code",
   "execution_count": null,
   "id": "7850c38e",
   "metadata": {},
   "outputs": [],
   "source": [
    "inf_2018 = retrained_stage3.predict(infiltration_attack_2018)\n",
    "dos_2018 = retrained_stage3.predict(dos_attack_2018)\n",
    "ddos_2018 = retrained_stage3.predict(ddos_attack_2018)\n",
    "web_2018 = retrained_stage3.predict(web_attack_2018)\n",
    "brute_2018 = retrained_stage3.predict(bruteforce_attack_2018)\n",
    "ben_2018 = retrained_stage3.predict(benign_data_2018)"
   ]
  },
  {
   "cell_type": "code",
   "execution_count": null,
   "id": "fcdd512f",
   "metadata": {},
   "outputs": [],
   "source": [
    "mae_byte_list = recon_metrices(infiltration_attack_2018, inf_2018)"
   ]
  },
  {
   "cell_type": "code",
   "execution_count": null,
   "id": "e7333f6e",
   "metadata": {},
   "outputs": [],
   "source": [
    "## Classification\n",
    "count_99 = len([i for i in mae_byte_list if i > 0.10])\n",
    "print(count_99 / len(mae_byte_list))"
   ]
  },
  {
   "cell_type": "code",
   "execution_count": null,
   "id": "d197ec13",
   "metadata": {},
   "outputs": [],
   "source": [
    "df_rand = pd.read_csv('Adv_all_DNN_truerandom.csv')\n",
    "df_rand = df_rand.loc[:, ~df_rand.columns.str.contains('^Unnamed')]\n",
    "adv_rand = df_rand.iloc[:,:500]"
   ]
  },
  {
   "cell_type": "code",
   "execution_count": null,
   "id": "a2ee58a2",
   "metadata": {},
   "outputs": [],
   "source": [
    "rand_adv = retrained_stage3.predict(adv_train)\n",
    "mae_byte_list = recon_metrices(adv_train, rand_adv)"
   ]
  },
  {
   "cell_type": "code",
   "execution_count": null,
   "id": "9f062472",
   "metadata": {},
   "outputs": [],
   "source": [
    "## Classification\n",
    "count_99 = len([i for i in mae_byte_list if i > 0.10])\n",
    "print(count_99 / len(mae_byte_list))"
   ]
  },
  {
   "cell_type": "code",
   "execution_count": null,
   "id": "4aace546",
   "metadata": {},
   "outputs": [],
   "source": [
    "print('Infiltration')\n",
    "cnt_inf, acc_inf = accuracy_calc(inf_2018)\n",
    "print(cnt_inf)\n",
    "print(acc_inf)\n",
    "print('DoS')\n",
    "cnt_dos, acc_dos = accuracy_calc(dos_2018)\n",
    "print(cnt_dos)\n",
    "print(acc_dos)\n",
    "print('DDoS')\n",
    "cnt_ddos, acc_ddos = accuracy_calc(ddos_2018)\n",
    "print(cnt_ddos)\n",
    "print(acc_ddos)\n",
    "print('Web')\n",
    "cnt_web, acc_web = accuracy_calc(web_2018)\n",
    "print(cnt_web)\n",
    "print(acc_web)\n",
    "print('Brute')\n",
    "cnt_brute, acc_brute = accuracy_calc(brute_2018)\n",
    "print(cnt_brute)\n",
    "print(acc_brute)\n",
    "print('Benign')\n",
    "cnt_ben, acc_ben = accuracy_calc(ben_2018)\n",
    "print(cnt_ben)\n",
    "print(1-acc_ben)"
   ]
  },
  {
   "cell_type": "code",
   "execution_count": null,
   "id": "4f21945b",
   "metadata": {},
   "outputs": [],
   "source": [
    "## CICIDS2017 Testing Retrained Model"
   ]
  },
  {
   "cell_type": "code",
   "execution_count": null,
   "id": "b219a3bf",
   "metadata": {},
   "outputs": [],
   "source": [
    "inf = retrained_stage1.predict(infiltration_attack)\n",
    "dos = retrained_stage1.predict(dos_attack)\n",
    "ddos = retrained_stage1.predict(ddos_attack)\n",
    "web = retrained_stage1.predict(web_attack)\n",
    "brute = retrained_stage1.predict(bruteforce_attack)\n",
    "ben = retrained_stage1.predict(benign_data)"
   ]
  },
  {
   "cell_type": "code",
   "execution_count": null,
   "id": "5aed36ca",
   "metadata": {},
   "outputs": [],
   "source": [
    "print('Infiltration')\n",
    "cnt_inf, acc_inf = accuracy_calc(inf)\n",
    "print(cnt_inf)\n",
    "print(acc_inf)\n",
    "print('DoS')\n",
    "cnt_dos, acc_dos = accuracy_calc(dos)\n",
    "print(cnt_dos)\n",
    "print(acc_dos)\n",
    "print('DDoS')\n",
    "cnt_ddos, acc_ddos = accuracy_calc(ddos)\n",
    "print(cnt_ddos)\n",
    "print(acc_ddos)\n",
    "print('Web')\n",
    "cnt_web, acc_web = accuracy_calc(web)\n",
    "print(cnt_web)\n",
    "print(acc_web)\n",
    "print('Brute')\n",
    "cnt_brute, acc_brute = accuracy_calc(brute)\n",
    "print(cnt_brute)\n",
    "print(acc_brute)\n",
    "print('Benign')\n",
    "cnt_ben, acc_ben = accuracy_calc(ben)\n",
    "print(cnt_ben)\n",
    "print(1-acc_ben)"
   ]
  },
  {
   "cell_type": "code",
   "execution_count": null,
   "id": "23b0d5e1",
   "metadata": {},
   "outputs": [],
   "source": []
  },
  {
   "cell_type": "code",
   "execution_count": null,
   "id": "db833da5",
   "metadata": {},
   "outputs": [],
   "source": []
  },
  {
   "cell_type": "code",
   "execution_count": null,
   "id": "65f155d2",
   "metadata": {},
   "outputs": [],
   "source": []
  }
 ],
 "metadata": {
  "kernelspec": {
   "display_name": "Python 3",
   "language": "python",
   "name": "python3"
  },
  "language_info": {
   "codemirror_mode": {
    "name": "ipython",
    "version": 3
   },
   "file_extension": ".py",
   "mimetype": "text/x-python",
   "name": "python",
   "nbconvert_exporter": "python",
   "pygments_lexer": "ipython3",
   "version": "3.8.5"
  }
 },
 "nbformat": 4,
 "nbformat_minor": 5
}
