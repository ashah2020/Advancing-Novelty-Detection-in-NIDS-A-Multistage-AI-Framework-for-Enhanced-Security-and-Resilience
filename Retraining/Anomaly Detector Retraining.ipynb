{
 "cells": [
  {
   "cell_type": "code",
   "execution_count": null,
   "id": "e50224e2",
   "metadata": {},
   "outputs": [],
   "source": [
    "## Importing Libraries\n",
    "from sklearn.neural_network import MLPClassifier\n",
    "import pandas as pd\n",
    "from sklearn.model_selection import train_test_split\n",
    "import numpy as np\n",
    "from sklearn.metrics import classification_report\n",
    "from sklearn.metrics import confusion_matrix\n",
    "import pickle\n",
    "from sklearn.tree import DecisionTreeClassifier\n",
    "from sklearn.linear_model import LogisticRegression\n",
    "from sklearn.svm import SVC\n",
    "import joblib\n",
    "import pickle\n",
    "from sklearn.utils import shuffle\n",
    "from sklearn.ensemble import RandomForestClassifier\n",
    "from xgboost import XGBClassifier\n",
    "from tensorflow.keras import Sequential,layers, losses, optimizers\n",
    "from tensorflow.keras.layers import Dense\n",
    "import tensorflow as tf\n",
    "import time"
   ]
  },
  {
   "cell_type": "code",
   "execution_count": null,
   "id": "bc5fb12c",
   "metadata": {},
   "outputs": [],
   "source": [
    "## Load CICIDS 2017 training dataset\n",
    "df_train = pd.read_csv(\"Malicious_Packet_Detector_Training_Data.csv\")"
   ]
  },
  {
   "cell_type": "code",
   "execution_count": null,
   "id": "d638bf3f",
   "metadata": {},
   "outputs": [],
   "source": [
    "## Loading CICIDS217 test dataset\n",
    "df_test = pd.read_csv(\"Malicious_Packet_Detector_Training_Data.csv\")"
   ]
  },
  {
   "cell_type": "code",
   "execution_count": null,
   "id": "6aacaa00",
   "metadata": {},
   "outputs": [],
   "source": [
    "## Subsetting attack packets from CICIDS 2017 dataset\n",
    "infiltration_attack = df_test[df_test['Label'] == 'Infiltration'].drop(['Label_binary','Label'], axis=1).iloc[:,0:200]\n",
    "print(infiltration_attack.shape)\n",
    "portscan_attack = df_test[df_test['Label'] == 'Port Scan'].drop(['Label_binary','Label'], axis=1).iloc[:,0:200]\n",
    "print(portscan_attack.shape)\n",
    "ddos_attack = df_test[df_test['Label'] == 'DDoS'].drop(['Label_binary','Label'], axis=1).iloc[:,0:200]\n",
    "print(ddos_attack.shape)\n",
    "bruteforce_attack = df_test[df_test['Label'] == 'Brute Force'].drop(['Label_binary','Label'], axis=1).iloc[:,0:200]\n",
    "print(bruteforce_attack.shape)\n",
    "dos_attack = df_test[df_test['Label'] == 'DoS'].drop(['Label_binary','Label'], axis=1).iloc[:,0:200]\n",
    "print(dos_attack.shape)\n",
    "web_attack = df_test[df_test['Label'] == 'Web Attack'].drop(['Label_binary','Label'], axis=1).iloc[:,0:200]\n",
    "print(web_attack.shape)\n",
    "benign_data = df_test[df_test['Label'] == 'Benign'].drop(['Label_binary','Label'], axis=1).iloc[:,0:200]\n",
    "print(benign_data.shape)"
   ]
  },
  {
   "cell_type": "code",
   "execution_count": null,
   "id": "3b58a00f",
   "metadata": {},
   "outputs": [],
   "source": [
    "## Loading CICIDS 2018 training data\n",
    "df_test_2018 = pd.read_csv(\"Malicious_Packet_Detector_Testing_Data_2018.csv\")"
   ]
  },
  {
   "cell_type": "code",
   "execution_count": null,
   "id": "dd5e3271",
   "metadata": {},
   "outputs": [],
   "source": [
    "df_test_2018 = df_test_2018.sample(frac = 1).reset_index(drop = True)"
   ]
  },
  {
   "cell_type": "code",
   "execution_count": null,
   "id": "28e567e3",
   "metadata": {},
   "outputs": [],
   "source": [
    "X_train_2018 = df_test_2018.iloc[:,0:1525]\n",
    "Y_train_2018 = df_test_2018.iloc[:,1526:1527]"
   ]
  },
  {
   "cell_type": "code",
   "execution_count": null,
   "id": "ac7d864b",
   "metadata": {},
   "outputs": [],
   "source": [
    "X_train_2017 = df_test.iloc[:,0:1525]\n",
    "Y_train_2017 = df_test.iloc[:,1526:1527]"
   ]
  },
  {
   "cell_type": "code",
   "execution_count": null,
   "id": "6a88af4e",
   "metadata": {},
   "outputs": [],
   "source": [
    "Y_train_2017.loc[Y_train_2017['Label_binary'] == 'Benign', 'Label_binary'] = 0\n",
    "Y_train_2017.loc[Y_train_2017['Label_binary'] == 'Malicious', 'Label_binary'] = 1"
   ]
  },
  {
   "cell_type": "code",
   "execution_count": null,
   "id": "8a817f21",
   "metadata": {},
   "outputs": [],
   "source": [
    "Y_train_2018.loc[Y_train_2018['Label_binary'] == 'Benign', 'Label_binary'] = 0\n",
    "Y_train_2018.loc[Y_train_2018['Label_binary'] == 'Malicious', 'Label_binary'] = 1"
   ]
  },
  {
   "cell_type": "code",
   "execution_count": null,
   "id": "89982815",
   "metadata": {},
   "outputs": [],
   "source": [
    "X_train_total = pd.concat([X_train_2017,X_train_2018])\n",
    "Y_train_total = pd.concat([Y_train_2017,Y_train_2018])"
   ]
  },
  {
   "cell_type": "code",
   "execution_count": null,
   "id": "2ef3e195",
   "metadata": {},
   "outputs": [],
   "source": [
    "X_train_ = X_train_total.values.astype('float32')\n",
    "Y_train_ = Y_train_total.values.astype('float32')"
   ]
  },
  {
   "cell_type": "code",
   "execution_count": null,
   "id": "6c320991",
   "metadata": {},
   "outputs": [],
   "source": []
  },
  {
   "cell_type": "code",
   "execution_count": null,
   "id": "51a6a8e6",
   "metadata": {},
   "outputs": [],
   "source": [
    "## Subsetting atatck apckets from CICIDS 2018 dataset\n",
    "infiltration_attack_2018 = df_test_2018[df_test_2018['Label'] == 'Infiltration'].drop(['Label_binary','Label'], axis=1).iloc[:,0:200]\n",
    "print(infiltration_attack_2018.shape)\n",
    "portscan_attack_2018 = df_test_2018[df_test_2018['Label'] == 'Port Scan'].drop(['Label_binary','Label'], axis=1).iloc[:,0:200]\n",
    "print(portscan_attack_2018.shape)\n",
    "ddos_attack_2018 = df_test_2018[df_test_2018['Label'] == 'ddos'].drop(['Label_binary','Label'], axis=1).iloc[:,0:200]\n",
    "print(ddos_attack_2018.shape)\n",
    "bruteforce_attack_2018 = df_test_2018[df_test_2018['Label'] == 'Brute Force'].drop(['Label_binary','Label'], axis=1).iloc[:,0:200]\n",
    "print(bruteforce_attack_2018.shape)\n",
    "dos_attack_2018 = df_test_2018[df_test_2018['Label'] == 'DoS'].drop(['Label_binary','Label'], axis=1).iloc[:,0:200]\n",
    "print(dos_attack_2018.shape)\n",
    "web_attack_2018 = df_test_2018[df_test_2018['Label'] == 'Web Attack'].drop(['Label_binary','Label'], axis=1).iloc[:,0:200]\n",
    "print(web_attack_2018.shape)\n",
    "benign_data_2018 = df_test_2018[df_test_2018['Label'] == 'Benign'].drop(['Label_binary','Label'], axis=1).iloc[:,0:200]\n",
    "print(benign_data_2018.shape)"
   ]
  },
  {
   "cell_type": "code",
   "execution_count": null,
   "id": "bbf3f192",
   "metadata": {},
   "outputs": [],
   "source": [
    "benign_data_total = pd.concat([benign_data, benign_data_2018])"
   ]
  },
  {
   "cell_type": "code",
   "execution_count": null,
   "id": "2638e384",
   "metadata": {},
   "outputs": [],
   "source": [
    "## Loading the baseline stage 2 AE model\n",
    "stage2_AE = tf.keras.models.load_model('Stage2_AE.h5')"
   ]
  },
  {
   "cell_type": "code",
   "execution_count": null,
   "id": "066fc79e",
   "metadata": {},
   "outputs": [],
   "source": [
    "## the pbRe reconstruction metric\n",
    "def recon_metrices(data, reconstructed_data):\n",
    "\n",
    "    maes = np.absolute(data.values - reconstructed_data)\n",
    "    \n",
    "    for j in range(len(maes)):\n",
    "        m = maes[j]\n",
    "        d = data.values[j]\n",
    "        r = reconstructed_data[j]\n",
    "        for el in range(len(m)):\n",
    "            if r[el] == 0 or d[el] == 0:\n",
    "                m[el] = 0\n",
    " \n",
    "            \n",
    "    mae_byte_list = []\n",
    "    ip_mae_list = []\n",
    "    tcp_header_mae_list = []\n",
    "    tcp_options_mae_list = []\n",
    "    tcp_segment_mae_list = []\n",
    "    i=0\n",
    "    for mae in maes:\n",
    "#         print(np.count_nonzero(reconstructed_data[i]))\n",
    "#         print(np.count_nonzero(data.values[i]))\n",
    "#         print(np.max(np.count_nonzero(reconstructed_data[i]),np.count_nonzero(data.values[i])))\n",
    "        mae_byte = sum(mae) / np.count_nonzero(mae)\n",
    "        mae_byte_list.append(mae_byte)\n",
    "        i += 1\n",
    "    return mae_byte_list"
   ]
  },
  {
   "cell_type": "code",
   "execution_count": null,
   "id": "3527b235",
   "metadata": {},
   "outputs": [],
   "source": [
    "inf = stage2_AE.predict(infiltration_attack.values.astype('float32'))"
   ]
  },
  {
   "cell_type": "code",
   "execution_count": null,
   "id": "aa5ebe10",
   "metadata": {},
   "outputs": [],
   "source": [
    "mae_byte_list = recon_metrices(infiltration_attack,inf)"
   ]
  },
  {
   "cell_type": "code",
   "execution_count": null,
   "id": "f3662ccf",
   "metadata": {},
   "outputs": [],
   "source": [
    "## Classification\n",
    "count_99 = len([i for i in mae_byte_list if i > 0.09])\n",
    "print(count_99 / len(mae_byte_list))"
   ]
  },
  {
   "cell_type": "code",
   "execution_count": null,
   "id": "c6b19ee4",
   "metadata": {},
   "outputs": [],
   "source": [
    "### Retraining with CICIDS 2018 data"
   ]
  },
  {
   "cell_type": "code",
   "execution_count": null,
   "id": "cfcbf8f8",
   "metadata": {},
   "outputs": [],
   "source": [
    "## Modifiable layers\n",
    "mod_layers = [6,7,8,10,11,12]"
   ]
  },
  {
   "cell_type": "code",
   "execution_count": null,
   "id": "fbea7de8",
   "metadata": {},
   "outputs": [],
   "source": [
    "## Modifiable neurons in modifiable layers\n",
    "layer6_ind = [h for h in range(0,50,3)]\n",
    "layer7_ind = [h for h in range(0,25,3)]\n",
    "layer8_ind = [h for h in range(0,12,3)]\n",
    "layer9_ind = []\n",
    "layer10_ind = [h for h in range(0,11,3)]\n",
    "layer11_ind = [h for h in range(0,25,3)]\n",
    "layer12_ind = [h for h in range(0,50,3)]"
   ]
  },
  {
   "cell_type": "code",
   "execution_count": null,
   "id": "dc0888ac",
   "metadata": {},
   "outputs": [],
   "source": [
    "## Initializing a new autoencoder model\n",
    "retrained_stage2 = tf.keras.Sequential()"
   ]
  },
  {
   "cell_type": "code",
   "execution_count": null,
   "id": "44f97cac",
   "metadata": {},
   "outputs": [],
   "source": [
    "## Architecture of the retrained model\n",
    "for i, layer in enumerate(stage2_AE.layers):\n",
    "    if i not in mod_layers:\n",
    "        layer.trainable = False\n",
    "        retrained_stage2.add(layer)\n",
    "    else:\n",
    "        retrained_stage2.add(layer)\n",
    "        if i == 6:\n",
    "            for ind in range(0,50):\n",
    "                if ind in layer6_ind:\n",
    "                    retrained_stage2.layers[-1].kernel[ind]._trainable = False\n",
    "            retrained_stage2.add(Dense(50, activation='relu', name = 'Trainable1'))\n",
    "        if i == 7:\n",
    "            for ind in range(0,25):\n",
    "                if ind in layer7_ind:\n",
    "                    retrained_stage2.layers[-1].kernel[ind]._trainable = False\n",
    "                    \n",
    "        if i == 8:\n",
    "            for ind in range(0,12):\n",
    "                if ind in layer8_ind:\n",
    "                    retrained_stage2.layers[-1].kernel[ind]._trainable = False\n",
    "        \n",
    "        if i == 10:\n",
    "            for ind in range(0,6):\n",
    "                if ind in layer10_ind:\n",
    "                    retrained_stage2.layers[-1].kernel[ind]._trainable = False\n",
    "        \n",
    "        if i == 11:\n",
    "            for ind in range(0,12):\n",
    "                if ind in layer11_ind:\n",
    "                    retrained_stage2.layers[-1].kernel[ind]._trainable = False\n",
    "        if i == 12:\n",
    "            for ind in range(0,25):\n",
    "                if ind in layer12_ind:\n",
    "                    retrained_stage2.layers[-1].kernel[ind]._trainable = False\n",
    "            retrained_stage2.add(Dense(50, activation='relu', name = 'Trainable2'))\n"
   ]
  },
  {
   "cell_type": "code",
   "execution_count": null,
   "id": "04b0f070",
   "metadata": {},
   "outputs": [],
   "source": [
    "retrained_stage2.summary()"
   ]
  },
  {
   "cell_type": "code",
   "execution_count": null,
   "id": "f1e14323",
   "metadata": {},
   "outputs": [],
   "source": [
    "## Compiling and Training\n",
    "start_time = time.time()\n",
    "retrained_stage2.compile(optimizer='adam', loss='mae')\n",
    "retrained_stage2.fit(benign_data_total , benign_data_total , batch_size=256, epochs=500, shuffle=True)\n",
    "end_time = time.time()"
   ]
  },
  {
   "cell_type": "code",
   "execution_count": null,
   "id": "dd4f7ac1",
   "metadata": {},
   "outputs": [],
   "source": [
    "## Saving the retrained model\n",
    "retrained_stage2.save('Retrained_Anomaly_Detector.h5')"
   ]
  },
  {
   "cell_type": "code",
   "execution_count": null,
   "id": "d9ef1c77",
   "metadata": {},
   "outputs": [],
   "source": [
    "## Loading the retrained model\n",
    "from tensorflow.keras.models import load_model\n",
    "\n",
    "retrained_stage2 = load_model('Retrained_Anomaly_Detector.h5')"
   ]
  },
  {
   "cell_type": "code",
   "execution_count": null,
   "id": "947ba1a5",
   "metadata": {},
   "outputs": [],
   "source": [
    "time_taken = end_time - start_time\n",
    "print(time_taken)"
   ]
  },
  {
   "cell_type": "code",
   "execution_count": null,
   "id": "c5910d7f",
   "metadata": {},
   "outputs": [],
   "source": [
    "## CICIDS2017 and CICIDS2018 Testing retrained model"
   ]
  },
  {
   "cell_type": "code",
   "execution_count": null,
   "id": "88b398b0",
   "metadata": {},
   "outputs": [],
   "source": [
    "inf_ = retrained_stage2.predict(infiltration_attack)\n",
    "port_ = retrained_stage2.predict(portscan_attack)\n",
    "dos_ = retrained_stage2.predict(dos_attack)\n",
    "ddos_ = retrained_stage2.predict(ddos_attack)\n",
    "web_ = retrained_stage2.predict(web_attack)\n",
    "brute_ = retrained_stage2.predict(bruteforce_attack)\n",
    "ben_ = retrained_stage2.predict(benign_data)"
   ]
  },
  {
   "cell_type": "code",
   "execution_count": null,
   "id": "9ace233c",
   "metadata": {},
   "outputs": [],
   "source": [
    "mae_byte_list = recon_metrices(benign_data,ben_)"
   ]
  },
  {
   "cell_type": "code",
   "execution_count": null,
   "id": "2ad764f4",
   "metadata": {},
   "outputs": [],
   "source": [
    "mae_byte_avg = sum(mae_byte_list) / len(mae_byte_list)\n",
    "print('mae_byte_avg', mae_byte_avg)\n",
    "mae_byte_per_95 = np.percentile(mae_byte_list, 99)\n",
    "print('mae_byte_99_percentile', mae_byte_per_95)\n",
    "mae_byte_per_95 = np.percentile(mae_byte_list, 95)\n",
    "print('mae_byte_95_percentile', mae_byte_per_95)\n",
    "mae_byte_per_95 = np.percentile(mae_byte_list, 90)\n",
    "print('mae_byte_90_percentile', mae_byte_per_95)"
   ]
  },
  {
   "cell_type": "code",
   "execution_count": null,
   "id": "38f37b15",
   "metadata": {},
   "outputs": [],
   "source": []
  },
  {
   "cell_type": "code",
   "execution_count": null,
   "id": "7850c38e",
   "metadata": {},
   "outputs": [],
   "source": [
    "inf_2018 = retrained_stage2.predict(infiltration_attack_2018)\n",
    "dos_2018 = retrained_stage2.predict(dos_attack_2018)\n",
    "ddos_2018 = retrained_stage2.predict(ddos_attack_2018)\n",
    "web_2018 = retrained_stage2.predict(web_attack_2018)\n",
    "brute_2018 = retrained_stage2.predict(bruteforce_attack_2018)\n",
    "ben_2018 = retrained_stage2.predict(benign_data_2018)"
   ]
  },
  {
   "cell_type": "code",
   "execution_count": null,
   "id": "c0f6f4cd",
   "metadata": {},
   "outputs": [],
   "source": [
    "mae_byte_list = recon_metrices(benign_data_2018,ben_2018)"
   ]
  },
  {
   "cell_type": "code",
   "execution_count": null,
   "id": "04feca22",
   "metadata": {},
   "outputs": [],
   "source": [
    "## Classification\n",
    "count_99 = len([i for i in mae_byte_list if i > 0.22])\n",
    "print(count_99 / len(mae_byte_list))"
   ]
  },
  {
   "cell_type": "code",
   "execution_count": null,
   "id": "4aace546",
   "metadata": {},
   "outputs": [],
   "source": [
    "print('Infiltration')\n",
    "cnt_inf, acc_inf = accuracy_calc(inf_2018)\n",
    "print(cnt_inf)\n",
    "print(acc_inf)\n",
    "print('DoS')\n",
    "cnt_dos, acc_dos = accuracy_calc(dos_2018)\n",
    "print(cnt_dos)\n",
    "print(acc_dos)\n",
    "print('DDoS')\n",
    "cnt_ddos, acc_ddos = accuracy_calc(ddos_2018)\n",
    "print(cnt_ddos)\n",
    "print(acc_ddos)\n",
    "print('Web')\n",
    "cnt_web, acc_web = accuracy_calc(web_2018)\n",
    "print(cnt_web)\n",
    "print(acc_web)\n",
    "print('Brute')\n",
    "cnt_brute, acc_brute = accuracy_calc(brute_2018)\n",
    "print(cnt_brute)\n",
    "print(acc_brute)\n",
    "print('Benign')\n",
    "cnt_ben, acc_ben = accuracy_calc(ben_2018)\n",
    "print(cnt_ben)\n",
    "print(1-acc_ben)"
   ]
  },
  {
   "cell_type": "code",
   "execution_count": null,
   "id": "4f21945b",
   "metadata": {},
   "outputs": [],
   "source": [
    "## CICIDS2017 Testing Retrained Model"
   ]
  },
  {
   "cell_type": "code",
   "execution_count": null,
   "id": "b219a3bf",
   "metadata": {},
   "outputs": [],
   "source": [
    "inf = retrained_stage1.predict(infiltration_attack)\n",
    "dos = retrained_stage1.predict(dos_attack)\n",
    "ddos = retrained_stage1.predict(ddos_attack)\n",
    "web = retrained_stage1.predict(web_attack)\n",
    "brute = retrained_stage1.predict(bruteforce_attack)\n",
    "ben = retrained_stage1.predict(benign_data)"
   ]
  },
  {
   "cell_type": "code",
   "execution_count": null,
   "id": "5aed36ca",
   "metadata": {},
   "outputs": [],
   "source": [
    "print('Infiltration')\n",
    "cnt_inf, acc_inf = accuracy_calc(inf)\n",
    "print(cnt_inf)\n",
    "print(acc_inf)\n",
    "print('DoS')\n",
    "cnt_dos, acc_dos = accuracy_calc(dos)\n",
    "print(cnt_dos)\n",
    "print(acc_dos)\n",
    "print('DDoS')\n",
    "cnt_ddos, acc_ddos = accuracy_calc(ddos)\n",
    "print(cnt_ddos)\n",
    "print(acc_ddos)\n",
    "print('Web')\n",
    "cnt_web, acc_web = accuracy_calc(web)\n",
    "print(cnt_web)\n",
    "print(acc_web)\n",
    "print('Brute')\n",
    "cnt_brute, acc_brute = accuracy_calc(brute)\n",
    "print(cnt_brute)\n",
    "print(acc_brute)\n",
    "print('Benign')\n",
    "cnt_ben, acc_ben = accuracy_calc(ben)\n",
    "print(cnt_ben)\n",
    "print(1-acc_ben)"
   ]
  }
 ],
 "metadata": {
  "kernelspec": {
   "display_name": "Python 3",
   "language": "python",
   "name": "python3"
  },
  "language_info": {
   "codemirror_mode": {
    "name": "ipython",
    "version": 3
   },
   "file_extension": ".py",
   "mimetype": "text/x-python",
   "name": "python",
   "nbconvert_exporter": "python",
   "pygments_lexer": "ipython3",
   "version": "3.8.5"
  }
 },
 "nbformat": 4,
 "nbformat_minor": 5
}
