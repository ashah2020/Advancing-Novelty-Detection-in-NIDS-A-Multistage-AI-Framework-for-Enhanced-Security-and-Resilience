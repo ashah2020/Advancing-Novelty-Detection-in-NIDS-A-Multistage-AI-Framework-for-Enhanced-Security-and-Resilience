{
 "cells": [
  {
   "cell_type": "code",
   "execution_count": 1,
   "id": "e50224e2",
   "metadata": {},
   "outputs": [],
   "source": [
    "## Import Libraries\n",
    "from sklearn.neural_network import MLPClassifier\n",
    "import pandas as pd\n",
    "from sklearn.model_selection import train_test_split\n",
    "import numpy as np\n",
    "from sklearn.metrics import classification_report\n",
    "from sklearn.metrics import confusion_matrix\n",
    "import pickle\n",
    "from sklearn.tree import DecisionTreeClassifier\n",
    "from sklearn.linear_model import LogisticRegression\n",
    "from sklearn.svm import SVC\n",
    "import joblib\n",
    "import pickle\n",
    "from sklearn.utils import shuffle\n",
    "from sklearn.ensemble import RandomForestClassifier\n",
    "from xgboost import XGBClassifier\n",
    "from tensorflow.keras import Sequential,layers, losses, optimizers\n",
    "from tensorflow.keras.layers import Dense\n",
    "import tensorflow as tf"
   ]
  },
  {
   "cell_type": "code",
   "execution_count": 2,
   "id": "bc5fb12c",
   "metadata": {},
   "outputs": [],
   "source": [
    "## Loading CICIDS2017 training data\n",
    "df_train = pd.read_csv(\"all_group_train_normalized.csv\")"
   ]
  },
  {
   "cell_type": "code",
   "execution_count": 81,
   "id": "ee8dc0a7",
   "metadata": {},
   "outputs": [
    {
     "data": {
      "text/plain": [
       "Benign          53432\n",
       "DoS              8906\n",
       "Web Attack       8906\n",
       "Infiltration     8905\n",
       "Port Scan        8905\n",
       "DDoS             8905\n",
       "Brute Force      8905\n",
       "Name: Label, dtype: int64"
      ]
     },
     "execution_count": 81,
     "metadata": {},
     "output_type": "execute_result"
    }
   ],
   "source": [
    "df_train['Label'].value_counts()"
   ]
  },
  {
   "cell_type": "code",
   "execution_count": 77,
   "id": "d638bf3f",
   "metadata": {},
   "outputs": [],
   "source": [
    "## Loading CICIDS2017 testing data\n",
    "df_test = pd.read_csv(\"all_group_test_normalized.csv\")"
   ]
  },
  {
   "cell_type": "code",
   "execution_count": 79,
   "id": "6aacaa00",
   "metadata": {},
   "outputs": [
    {
     "name": "stdout",
     "output_type": "stream",
     "text": [
      "(3817, 200)\n",
      "(3817, 200)\n",
      "(3817, 200)\n",
      "(3817, 200)\n",
      "(3816, 200)\n",
      "(3816, 200)\n"
     ]
    }
   ],
   "source": [
    "## Subsetting different attack packets\n",
    "infiltration_attack = df_test[df_test['Label'] == 'Infiltration'].drop(['Label_binary','Label'], axis=1).iloc[:,0:200]\n",
    "print(infiltration_attack.shape)\n",
    "portscan_attack = df_test[df_test['Label'] == 'Port Scan'].drop(['Label_binary','Label'], axis=1).iloc[:,0:200]\n",
    "print(portscan_attack.shape)\n",
    "ddos_attack = df_test[df_test['Label'] == 'DDoS'].drop(['Label_binary','Label'], axis=1).iloc[:,0:200]\n",
    "print(ddos_attack.shape)\n",
    "bruteforce_attack = df_test[df_test['Label'] == 'Brute Force'].drop(['Label_binary','Label'], axis=1).iloc[:,0:200]\n",
    "print(bruteforce_attack.shape)\n",
    "dos_attack = df_test[df_test['Label'] == 'DoS'].drop(['Label_binary','Label'], axis=1).iloc[:,0:200]\n",
    "print(dos_attack.shape)\n",
    "web_attack = df_test[df_test['Label'] == 'Web Attack'].drop(['Label_binary','Label'], axis=1).iloc[:,0:200]\n",
    "print(web_attack.shape)"
   ]
  },
  {
   "cell_type": "code",
   "execution_count": null,
   "id": "eee99bf9",
   "metadata": {},
   "outputs": [],
   "source": []
  },
  {
   "cell_type": "code",
   "execution_count": 101,
   "id": "3b58a00f",
   "metadata": {},
   "outputs": [],
   "source": [
    "## Loading CICIDS-2018 data\n",
    "df_test_2018 = pd.read_csv(\"all_group_train_normalized_2018.csv\")"
   ]
  },
  {
   "cell_type": "code",
   "execution_count": 144,
   "id": "2a099cde",
   "metadata": {},
   "outputs": [
    {
     "data": {
      "text/plain": [
       "Benign          145579\n",
       "DoS              29116\n",
       "Web Attack       29116\n",
       "Infiltration     29116\n",
       "Brute Force      29116\n",
       "ddos             29115\n",
       "Name: Label, dtype: int64"
      ]
     },
     "execution_count": 144,
     "metadata": {},
     "output_type": "execute_result"
    }
   ],
   "source": [
    "df_test_2018['Label'].value_counts()"
   ]
  },
  {
   "cell_type": "code",
   "execution_count": 148,
   "id": "51a6a8e6",
   "metadata": {},
   "outputs": [
    {
     "name": "stdout",
     "output_type": "stream",
     "text": [
      "(29116, 1525)\n",
      "(0, 1525)\n",
      "(29115, 1525)\n",
      "(29116, 1525)\n",
      "(29116, 1525)\n",
      "(29116, 1525)\n"
     ]
    }
   ],
   "source": [
    "infiltration_attack = df_test_2018[df_test_2018['Label'] == 'Infiltration'].drop(['Label_binary','Label'], axis=1).iloc[:,0:1525]\n",
    "print(infiltration_attack.shape)\n",
    "portscan_attack = df_test_2018[df_test_2018['Label'] == 'Port Scan'].drop(['Label_binary','Label'], axis=1).iloc[:,0:1525]\n",
    "print(portscan_attack.shape)\n",
    "ddos_attack = df_test_2018[df_test_2018['Label'] == 'ddos'].drop(['Label_binary','Label'], axis=1).iloc[:,0:1525]\n",
    "print(ddos_attack.shape)\n",
    "bruteforce_attack = df_test_2018[df_test_2018['Label'] == 'Brute Force'].drop(['Label_binary','Label'], axis=1).iloc[:,0:1525]\n",
    "print(bruteforce_attack.shape)\n",
    "dos_attack = df_test_2018[df_test_2018['Label'] == 'DoS'].drop(['Label_binary','Label'], axis=1).iloc[:,0:1525]\n",
    "print(dos_attack.shape)\n",
    "web_attack = df_test_2018[df_test_2018['Label'] == 'Web Attack'].drop(['Label_binary','Label'], axis=1).iloc[:,0:1525]\n",
    "print(web_attack.shape)"
   ]
  },
  {
   "cell_type": "code",
   "execution_count": 103,
   "id": "a2a8a6cd",
   "metadata": {},
   "outputs": [],
   "source": [
    "X_2018 = df_test_2018.iloc[:, :1525]"
   ]
  },
  {
   "cell_type": "code",
   "execution_count": 5,
   "id": "6db42d49",
   "metadata": {},
   "outputs": [],
   "source": [
    "X_train = df_train.iloc[:,:1525]\n",
    "Y_train = df_train.iloc[:,1526:1527]"
   ]
  },
  {
   "cell_type": "code",
   "execution_count": 7,
   "id": "77495139",
   "metadata": {},
   "outputs": [],
   "source": [
    "Y_train.loc[Y_train['Label_binary'] == 'Benign', 'Label_binary'] = 0"
   ]
  },
  {
   "cell_type": "code",
   "execution_count": 8,
   "id": "a2208da1",
   "metadata": {},
   "outputs": [],
   "source": [
    "Y_train.loc[Y_train['Label_binary'] == 'Malicious', 'Label_binary'] = 1"
   ]
  },
  {
   "cell_type": "code",
   "execution_count": 9,
   "id": "79ca6f7b",
   "metadata": {},
   "outputs": [],
   "source": [
    "X_train_ = X_train.values.astype('float32')"
   ]
  },
  {
   "cell_type": "code",
   "execution_count": 10,
   "id": "a254b9cf",
   "metadata": {},
   "outputs": [],
   "source": [
    "Y_train_ = Y_train.values.astype('float32')"
   ]
  },
  {
   "cell_type": "code",
   "execution_count": 57,
   "id": "21abd87b",
   "metadata": {},
   "outputs": [],
   "source": [
    "## The DNN model training\n",
    "tf.random.set_seed(2)\n",
    "input_dims = 1525\n",
    "model = Sequential()\n",
    "model.add(Dense(input_dims, input_shape = (input_dims, )))\n",
    "model.add(Dense(128, activation='relu'))\n",
    "model.add(Dense(64, activation='relu'))\n",
    "model.add(Dense(32, activation='relu'))\n",
    "model.add(Dense(1, activation='sigmoid'))"
   ]
  },
  {
   "cell_type": "code",
   "execution_count": 58,
   "id": "4b2de183",
   "metadata": {},
   "outputs": [
    {
     "name": "stdout",
     "output_type": "stream",
     "text": [
      "Epoch 1/50\n",
      "105/105 [==============================] - 4s 31ms/step - loss: 0.1411 - accuracy: 0.9545\n",
      "Epoch 2/50\n",
      "105/105 [==============================] - 3s 32ms/step - loss: 0.0769 - accuracy: 0.9762\n",
      "Epoch 3/50\n",
      "105/105 [==============================] - 4s 36ms/step - loss: 0.0574 - accuracy: 0.9838\n",
      "Epoch 4/50\n",
      "105/105 [==============================] - 3s 32ms/step - loss: 0.0412 - accuracy: 0.9888\n",
      "Epoch 5/50\n",
      "105/105 [==============================] - 3s 32ms/step - loss: 0.0375 - accuracy: 0.9890\n",
      "Epoch 6/50\n",
      "105/105 [==============================] - 3s 33ms/step - loss: 0.0273 - accuracy: 0.9919\n",
      "Epoch 7/50\n",
      "105/105 [==============================] - 4s 34ms/step - loss: 0.0239 - accuracy: 0.9928\n",
      "Epoch 8/50\n",
      "105/105 [==============================] - 4s 36ms/step - loss: 0.0235 - accuracy: 0.9929\n",
      "Epoch 9/50\n",
      "105/105 [==============================] - 3s 33ms/step - loss: 0.0413 - accuracy: 0.9908\n",
      "Epoch 10/50\n",
      "105/105 [==============================] - 4s 33ms/step - loss: 0.0177 - accuracy: 0.9947\n",
      "Epoch 11/50\n",
      "105/105 [==============================] - 4s 34ms/step - loss: 0.0143 - accuracy: 0.9955\n",
      "Epoch 12/50\n",
      "105/105 [==============================] - 4s 37ms/step - loss: 0.0132 - accuracy: 0.9962\n",
      "Epoch 13/50\n",
      "105/105 [==============================] - 4s 34ms/step - loss: 0.0121 - accuracy: 0.9967\n",
      "Epoch 14/50\n",
      "105/105 [==============================] - 4s 34ms/step - loss: 0.0187 - accuracy: 0.9953\n",
      "Epoch 15/50\n",
      "105/105 [==============================] - 4s 34ms/step - loss: 0.0105 - accuracy: 0.9971\n",
      "Epoch 16/50\n",
      "105/105 [==============================] - 4s 37ms/step - loss: 0.0102 - accuracy: 0.9973\n",
      "Epoch 17/50\n",
      "105/105 [==============================] - 4s 35ms/step - loss: 0.0087 - accuracy: 0.9976\n",
      "Epoch 18/50\n",
      "105/105 [==============================] - 4s 34ms/step - loss: 0.0178 - accuracy: 0.9953\n",
      "Epoch 19/50\n",
      "105/105 [==============================] - 4s 34ms/step - loss: 0.0125 - accuracy: 0.9964\n",
      "Epoch 20/50\n",
      "105/105 [==============================] - 11s 103ms/step - loss: 0.0087 - accuracy: 0.9976\n",
      "Epoch 21/50\n",
      "105/105 [==============================] - 19s 177ms/step - loss: 0.0199 - accuracy: 0.9943\n",
      "Epoch 22/50\n",
      "105/105 [==============================] - 15s 145ms/step - loss: 0.0082 - accuracy: 0.9978\n",
      "Epoch 23/50\n",
      "105/105 [==============================] - 12s 113ms/step - loss: 0.0070 - accuracy: 0.9983\n",
      "Epoch 24/50\n",
      "105/105 [==============================] - 9s 90ms/step - loss: 0.0071 - accuracy: 0.9981\n",
      "Epoch 25/50\n",
      "105/105 [==============================] - 8s 81ms/step - loss: 0.0065 - accuracy: 0.9984\n",
      "Epoch 26/50\n",
      "105/105 [==============================] - 7s 71ms/step - loss: 0.0071 - accuracy: 0.9982\n",
      "Epoch 27/50\n",
      "105/105 [==============================] - 7s 66ms/step - loss: 0.0125 - accuracy: 0.9965\n",
      "Epoch 28/50\n",
      "105/105 [==============================] - 7s 63ms/step - loss: 0.0085 - accuracy: 0.9976\n",
      "Epoch 29/50\n",
      "105/105 [==============================] - 6s 58ms/step - loss: 0.0087 - accuracy: 0.9978\n",
      "Epoch 30/50\n",
      "105/105 [==============================] - 6s 59ms/step - loss: 0.0056 - accuracy: 0.9986\n",
      "Epoch 31/50\n",
      "105/105 [==============================] - 6s 54ms/step - loss: 0.0059 - accuracy: 0.9984\n",
      "Epoch 32/50\n",
      "105/105 [==============================] - 6s 54ms/step - loss: 0.0079 - accuracy: 0.9979\n",
      "Epoch 33/50\n",
      "105/105 [==============================] - 5s 52ms/step - loss: 0.0082 - accuracy: 0.9978\n",
      "Epoch 34/50\n",
      "105/105 [==============================] - 5s 48ms/step - loss: 0.0053 - accuracy: 0.9986\n",
      "Epoch 35/50\n",
      "105/105 [==============================] - 5s 50ms/step - loss: 0.0055 - accuracy: 0.9985\n",
      "Epoch 36/50\n",
      "105/105 [==============================] - 5s 48ms/step - loss: 0.0062 - accuracy: 0.9983\n",
      "Epoch 37/50\n",
      "105/105 [==============================] - 5s 45ms/step - loss: 0.0144 - accuracy: 0.9961\n",
      "Epoch 38/50\n",
      "105/105 [==============================] - 5s 46ms/step - loss: 0.0099 - accuracy: 0.9972\n",
      "Epoch 39/50\n",
      "105/105 [==============================] - 5s 46ms/step - loss: 0.0076 - accuracy: 0.9978\n",
      "Epoch 40/50\n",
      "105/105 [==============================] - 5s 43ms/step - loss: 0.0060 - accuracy: 0.9984\n",
      "Epoch 41/50\n",
      "105/105 [==============================] - 5s 43ms/step - loss: 0.0059 - accuracy: 0.9985\n",
      "Epoch 42/50\n",
      "105/105 [==============================] - 5s 45ms/step - loss: 0.0077 - accuracy: 0.9981\n",
      "Epoch 43/50\n",
      "105/105 [==============================] - 4s 42ms/step - loss: 0.0054 - accuracy: 0.9985\n",
      "Epoch 44/50\n",
      "105/105 [==============================] - 5s 43ms/step - loss: 0.0050 - accuracy: 0.9986\n",
      "Epoch 45/50\n",
      "105/105 [==============================] - 4s 43ms/step - loss: 0.0048 - accuracy: 0.9988\n",
      "Epoch 46/50\n",
      "105/105 [==============================] - 5s 45ms/step - loss: 0.0059 - accuracy: 0.9984\n",
      "Epoch 47/50\n",
      "105/105 [==============================] - 4s 42ms/step - loss: 0.0252 - accuracy: 0.9944\n",
      "Epoch 48/50\n",
      "105/105 [==============================] - 4s 41ms/step - loss: 0.0511 - accuracy: 0.9915\n",
      "Epoch 49/50\n",
      "105/105 [==============================] - 5s 44ms/step - loss: 0.0135 - accuracy: 0.9961\n",
      "Epoch 50/50\n",
      "105/105 [==============================] - 4s 42ms/step - loss: 0.0102 - accuracy: 0.9971\n"
     ]
    },
    {
     "data": {
      "text/plain": [
       "<keras.callbacks.History at 0x2d9c2d13190>"
      ]
     },
     "execution_count": 58,
     "metadata": {},
     "output_type": "execute_result"
    }
   ],
   "source": [
    "## Compilation and training of the model\n",
    "model.compile(optimizer='adam', loss= 'binary_crossentropy', metrics=['accuracy'])\n",
    "model.fit(X_train_ , Y_train_, batch_size=1024, epochs=50, shuffle=True)"
   ]
  },
  {
   "cell_type": "code",
   "execution_count": 76,
   "id": "de9f530f",
   "metadata": {},
   "outputs": [],
   "source": [
    "## SAving the baseline stage 1 DNN\n",
    "model.save('Stage1_DNN.h5')"
   ]
  }
 ],
 "metadata": {
  "kernelspec": {
   "display_name": "Python 3",
   "language": "python",
   "name": "python3"
  },
  "language_info": {
   "codemirror_mode": {
    "name": "ipython",
    "version": 3
   },
   "file_extension": ".py",
   "mimetype": "text/x-python",
   "name": "python",
   "nbconvert_exporter": "python",
   "pygments_lexer": "ipython3",
   "version": "3.8.5"
  }
 },
 "nbformat": 4,
 "nbformat_minor": 5
}
