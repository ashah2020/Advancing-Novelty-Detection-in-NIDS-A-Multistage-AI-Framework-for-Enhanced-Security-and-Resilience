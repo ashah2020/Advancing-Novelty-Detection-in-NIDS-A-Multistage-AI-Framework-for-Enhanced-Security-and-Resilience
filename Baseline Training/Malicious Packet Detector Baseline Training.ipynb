{
 "cells": [
  {
   "cell_type": "code",
   "execution_count": null,
   "id": "e50224e2",
   "metadata": {},
   "outputs": [],
   "source": [
    "## Import Libraries\n",
    "import pandas as pd\n",
    "from sklearn.model_selection import train_test_split\n",
    "import numpy as np\n",
    "import pickle\n",
    "import joblib\n",
    "import pickle\n",
    "from sklearn.utils import shuffle\n",
    "from tensorflow.keras import Sequential,layers, losses, optimizers\n",
    "from tensorflow.keras.layers import Dense\n",
    "import tensorflow as tf"
   ]
  },
  {
   "cell_type": "code",
   "execution_count": null,
   "id": "bc5fb12c",
   "metadata": {},
   "outputs": [],
   "source": [
    "## Loading CICIDS2017 training data\n",
    "df_train = pd.read_csv(\"all_group_train_normalized.csv\")"
   ]
  },
  {
   "cell_type": "code",
   "execution_count": null,
   "id": "6db42d49",
   "metadata": {},
   "outputs": [],
   "source": [
    "X_train = df_train.iloc[:,:1525]\n",
    "Y_train = df_train.iloc[:,1526:1527]"
   ]
  },
  {
   "cell_type": "code",
   "execution_count": null,
   "id": "77495139",
   "metadata": {},
   "outputs": [],
   "source": [
    "Y_train.loc[Y_train['Label_binary'] == 'Benign', 'Label_binary'] = 0"
   ]
  },
  {
   "cell_type": "code",
   "execution_count": null,
   "id": "a2208da1",
   "metadata": {},
   "outputs": [],
   "source": [
    "Y_train.loc[Y_train['Label_binary'] == 'Malicious', 'Label_binary'] = 1"
   ]
  },
  {
   "cell_type": "code",
   "execution_count": null,
   "id": "79ca6f7b",
   "metadata": {},
   "outputs": [],
   "source": [
    "X_train_ = X_train.values.astype('float32')"
   ]
  },
  {
   "cell_type": "code",
   "execution_count": null,
   "id": "a254b9cf",
   "metadata": {},
   "outputs": [],
   "source": [
    "Y_train_ = Y_train.values.astype('float32')"
   ]
  },
  {
   "cell_type": "code",
   "execution_count": null,
   "id": "21abd87b",
   "metadata": {},
   "outputs": [],
   "source": [
    "## The DNN model training\n",
    "tf.random.set_seed(2)\n",
    "input_dims = 1525\n",
    "model = Sequential()\n",
    "model.add(Dense(input_dims, input_shape = (input_dims, )))\n",
    "model.add(Dense(128, activation='relu'))\n",
    "model.add(Dense(64, activation='relu'))\n",
    "model.add(Dense(32, activation='relu'))\n",
    "model.add(Dense(1, activation='sigmoid'))"
   ]
  },
  {
   "cell_type": "code",
   "execution_count": null,
   "id": "4b2de183",
   "metadata": {},
   "outputs": [],
   "source": [
    "## Compilation and training of the model\n",
    "model.compile(optimizer='adam', loss= 'binary_crossentropy', metrics=['accuracy'])\n",
    "model.fit(X_train_ , Y_train_, batch_size=1024, epochs=50, shuffle=True)"
   ]
  },
  {
   "cell_type": "code",
   "execution_count": null,
   "id": "de9f530f",
   "metadata": {},
   "outputs": [],
   "source": [
    "## SAving the baseline Malicious Packet Detector\n",
    "model.save('Malicious_packet_detector_baseline.h5')"
   ]
  }
 ],
 "metadata": {
  "kernelspec": {
   "display_name": "Python 3",
   "language": "python",
   "name": "python3"
  },
  "language_info": {
   "codemirror_mode": {
    "name": "ipython",
    "version": 3
   },
   "file_extension": ".py",
   "mimetype": "text/x-python",
   "name": "python",
   "nbconvert_exporter": "python",
   "pygments_lexer": "ipython3",
   "version": "3.8.5"
  }
 },
 "nbformat": 4,
 "nbformat_minor": 5
}
