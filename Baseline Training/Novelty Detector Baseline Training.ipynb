{
 "cells": [
  {
   "cell_type": "code",
   "execution_count": null,
   "id": "e5c1b58d",
   "metadata": {},
   "outputs": [],
   "source": [
    "## Import Libraries\n",
    "import datetime\n",
    "import pandas as pd\n",
    "import numpy as np\n",
    "import matplotlib.pyplot as plt\n",
    "import tensorflow as tf\n",
    "import random\n",
    "import torch\n",
    "from collections import Counter\n",
    "from tensorflow.keras import Sequential,layers, losses, optimizers\n",
    "from tensorflow.keras.layers import Dense\n",
    "from keras.layers import LeakyReLU"
   ]
  },
  {
   "cell_type": "code",
   "execution_count": null,
   "id": "c3ee09b2",
   "metadata": {},
   "outputs": [],
   "source": [
    "## Loading adversarial training data\n",
    "df_train = pd.read_csv(\"Novelty_Detector_Training_Data.csv\")"
   ]
  },
  {
   "cell_type": "code",
   "execution_count": null,
   "id": "e3e8cd9f",
   "metadata": {},
   "outputs": [],
   "source": [
    "df_train = df_train.loc[:, ~df_train.columns.str.contains('^Unnamed')]"
   ]
  },
  {
   "cell_type": "code",
   "execution_count": null,
   "id": "8163c40a",
   "metadata": {},
   "outputs": [],
   "source": [
    "adv_data = df_train.iloc[:,0:500]"
   ]
  },
  {
   "cell_type": "code",
   "execution_count": null,
   "id": "6da9065c",
   "metadata": {},
   "outputs": [],
   "source": [
    "## AE model architecture\n",
    "tf.random.set_seed(2)\n",
    "input_dims = 500\n",
    "model = Sequential()\n",
    "model.add(Dense(input_dims, input_shape = (input_dims, )))\n",
    "model.add(Dense(400))\n",
    "model.add(LeakyReLU(alpha=0.05))\n",
    "model.add(Dense(300))\n",
    "model.add(LeakyReLU(alpha=0.05))\n",
    "model.add(Dense(input_dims // 2, activation='relu'))\n",
    "model.add(Dense(input_dims // 4, activation='relu'))\n",
    "model.add(Dense(input_dims // 8, activation='relu'))\n",
    "model.add(Dense(input_dims // 4, activation='relu'))\n",
    "model.add(Dense(input_dims // 2))\n",
    "model.add(Dense(300))\n",
    "model.add(LeakyReLU(alpha=0.05))\n",
    "model.add(Dense(400))\n",
    "model.add(LeakyReLU(alpha=0.05))\n",
    "model.add(Dense(input_dims, activation='relu'))"
   ]
  },
  {
   "cell_type": "code",
   "execution_count": null,
   "id": "e4f24b33",
   "metadata": {},
   "outputs": [],
   "source": [
    "## Compilation and training\n",
    "model.compile(optimizer='adam', loss='mae')\n",
    "model.fit(adv_data , adv_data , batch_size=256, epochs=500, shuffle=True)"
   ]
  },
  {
   "cell_type": "code",
   "execution_count": null,
   "id": "1a2ff0fc",
   "metadata": {},
   "outputs": [],
   "source": [
    "## Saving the stage-3 base line model\n",
    "model.save('Novelty_detector_baseline.h5')"
   ]
  },
  {
   "cell_type": "code",
   "execution_count": null,
   "id": "b7c7c975",
   "metadata": {},
   "outputs": [],
   "source": [
    "## Loading the stage-3 adversarial model\n",
    "from tensorflow.keras.models import load_model\n",
    "\n",
    "model = load_model('Novelty_detector_baseline.h5', compile = False)"
   ]
  },
  {
   "cell_type": "code",
   "execution_count": null,
   "id": "b961a489",
   "metadata": {},
   "outputs": [],
   "source": [
    "## pbRe metric\n",
    "def recon_metrices(data, reconstructed_data):\n",
    "\n",
    "    maes = np.absolute(data.values - reconstructed_data)\n",
    "    \n",
    "    for j in range(len(maes)):\n",
    "        m = maes[j]\n",
    "        d = data.values[j]\n",
    "        r = reconstructed_data[j]\n",
    "        for el in range(len(m)):\n",
    "            if r[el] == 0 or d[el] == 0:\n",
    "                m[el] = 0\n",
    " \n",
    "            \n",
    "    mae_byte_list = []\n",
    "    ip_mae_list = []\n",
    "    tcp_header_mae_list = []\n",
    "    tcp_options_mae_list = []\n",
    "    tcp_segment_mae_list = []\n",
    "    i=0\n",
    "    for mae in maes:\n",
    "#         print(np.count_nonzero(reconstructed_data[i]))\n",
    "#         print(np.count_nonzero(data.values[i]))\n",
    "#         print(np.max(np.count_nonzero(reconstructed_data[i]),np.count_nonzero(data.values[i])))\n",
    "        mae_byte = sum(mae) / np.count_nonzero(mae)\n",
    "        mae_byte_list.append(mae_byte)\n",
    "        i += 1\n",
    "    return mae_byte_list"
   ]
  },
  {
   "cell_type": "code",
   "execution_count": null,
   "id": "594b0769",
   "metadata": {},
   "outputs": [],
   "source": [
    "## Constructing threshold on test adversarial data"
   ]
  },
  {
   "cell_type": "code",
   "execution_count": null,
   "id": "cda1587c",
   "metadata": {},
   "outputs": [],
   "source": [
    "recon_adv = model.predict(adv_data)"
   ]
  },
  {
   "cell_type": "code",
   "execution_count": null,
   "id": "3c041687",
   "metadata": {},
   "outputs": [],
   "source": [
    "mae_byte_list = recon_metrices(adv_data,recon_adv)"
   ]
  },
  {
   "cell_type": "code",
   "execution_count": null,
   "id": "90af8f53",
   "metadata": {},
   "outputs": [],
   "source": [
    "## Thresholds for 99,95 and 90 percentile values\n",
    "mae_byte_avg = sum(mae_byte_list) / len(mae_byte_list)\n",
    "print('mae_byte_avg', mae_byte_avg)\n",
    "mae_byte_per_95 = np.percentile(mae_byte_list, 99)\n",
    "print('mae_byte_99_percentile', mae_byte_per_95)\n",
    "mae_byte_per_95 = np.percentile(mae_byte_list, 95)\n",
    "print('mae_byte_95_percentile', mae_byte_per_95)\n",
    "mae_byte_per_95 = np.percentile(mae_byte_list, 90)\n",
    "print('mae_byte_90_percentile', mae_byte_per_95)"
   ]
  },
  {
   "cell_type": "code",
   "execution_count": null,
   "id": "7d63183d",
   "metadata": {},
   "outputs": [],
   "source": [
    "## Loading the test dataset\n",
    "df_test = pd.read_csv(\"Adv_all_DNN_truerandom.csv\")"
   ]
  },
  {
   "cell_type": "code",
   "execution_count": null,
   "id": "38b3c247",
   "metadata": {},
   "outputs": [],
   "source": [
    "df_test = df_test.loc[:, ~df_test.columns.str.contains('^Unnamed')]"
   ]
  },
  {
   "cell_type": "code",
   "execution_count": null,
   "id": "e0121ed2",
   "metadata": {},
   "outputs": [],
   "source": [
    "## Testing the baseline model against different adversarial samples and CICIDS2018 data \n",
    "##that leaked from the previous stages"
   ]
  },
  {
   "cell_type": "code",
   "execution_count": null,
   "id": "dd18c886",
   "metadata": {},
   "outputs": [],
   "source": [
    "adv_data_test = df_test.iloc[:, 0:500]"
   ]
  },
  {
   "cell_type": "code",
   "execution_count": null,
   "id": "e2a2cbda",
   "metadata": {},
   "outputs": [],
   "source": [
    "recon_adv_test = model.predict(adv_data_test)"
   ]
  },
  {
   "cell_type": "code",
   "execution_count": null,
   "id": "1d271313",
   "metadata": {},
   "outputs": [],
   "source": [
    "mae_byte_list_adv = recon_metrices(adv_data_test,recon_adv_test)"
   ]
  },
  {
   "cell_type": "code",
   "execution_count": null,
   "id": "58220d4f",
   "metadata": {},
   "outputs": [],
   "source": [
    "mae_byte_avg = sum(mae_byte_list_adv) / len(mae_byte_list_adv)\n",
    "print('mae_byte_avg', mae_byte_avg)\n",
    "mae_byte_per_95 = np.percentile(mae_byte_list_adv, 99)\n",
    "print('mae_byte_99_percentile', mae_byte_per_95)\n",
    "mae_byte_per_95 = np.percentile(mae_byte_list_adv, 95)\n",
    "print('mae_byte_95_percentile', mae_byte_per_95)\n",
    "mae_byte_per_95 = np.percentile(mae_byte_list_adv, 90)\n",
    "print('mae_byte_90_percentile', mae_byte_per_95)"
   ]
  },
  {
   "cell_type": "code",
   "execution_count": null,
   "id": "13730d44",
   "metadata": {},
   "outputs": [],
   "source": [
    "## Classification\n",
    "count_99 = len([i for i in mae_byte_list_adv if i > 0.09])\n",
    "print(count_99 / len(mae_byte_list_adv))"
   ]
  },
  {
   "cell_type": "code",
   "execution_count": null,
   "id": "5f446f83",
   "metadata": {},
   "outputs": [],
   "source": [
    "df_test"
   ]
  },
  {
   "cell_type": "code",
   "execution_count": null,
   "id": "92554d3d",
   "metadata": {},
   "outputs": [],
   "source": [
    "adv_all = pd.read_csv(\"adv_examples_all_allDNN_bigger.csv\")"
   ]
  },
  {
   "cell_type": "code",
   "execution_count": null,
   "id": "d728fc17",
   "metadata": {},
   "outputs": [],
   "source": [
    "adv_data_RL = adv_all.iloc[:,0:500]"
   ]
  },
  {
   "cell_type": "code",
   "execution_count": null,
   "id": "e6de3f98",
   "metadata": {},
   "outputs": [],
   "source": [
    "recon_adv_RL = model.predict(adv_data_RL)"
   ]
  },
  {
   "cell_type": "code",
   "execution_count": null,
   "id": "333274f1",
   "metadata": {},
   "outputs": [],
   "source": [
    "mae_byte_list_adv_RL = recon_metrices(adv_data_RL,recon_adv_RL)"
   ]
  },
  {
   "cell_type": "code",
   "execution_count": null,
   "id": "48aeddb4",
   "metadata": {},
   "outputs": [],
   "source": [
    "mae_byte_avg = sum(mae_byte_list_adv_RL) / len(mae_byte_list_adv_RL)\n",
    "print('mae_byte_avg', mae_byte_avg)\n",
    "mae_byte_per_95 = np.percentile(mae_byte_list_adv_RL, 99)\n",
    "print('mae_byte_99_percentile', mae_byte_per_95)\n",
    "mae_byte_per_95 = np.percentile(mae_byte_list_adv_RL, 95)\n",
    "print('mae_byte_95_percentile', mae_byte_per_95)\n",
    "mae_byte_per_95 = np.percentile(mae_byte_list_adv_RL, 90)\n",
    "print('mae_byte_90_percentile', mae_byte_per_95)"
   ]
  },
  {
   "cell_type": "code",
   "execution_count": null,
   "id": "6f77c472",
   "metadata": {},
   "outputs": [],
   "source": [
    "## Classification\n",
    "count_99 = len([i for i in mae_byte_list_adv_RL if i > 0.07])\n",
    "print(count_99 / len(mae_byte_list_adv_RL))"
   ]
  },
  {
   "cell_type": "code",
   "execution_count": null,
   "id": "476b2dba",
   "metadata": {},
   "outputs": [],
   "source": [
    "df_2018 = pd.read_csv(\"all_group_train_normalized_2018.csv\")"
   ]
  },
  {
   "cell_type": "code",
   "execution_count": null,
   "id": "4fbeeff4",
   "metadata": {},
   "outputs": [],
   "source": [
    "infiltration_attack = df_2018[df_2018['Label'] == 'Infiltration'].drop(['Label_binary','Label'], axis=1).iloc[:,0:500]\n",
    "print(infiltration_attack.shape)\n",
    "# portscan_attack = df_2018[df_2018['Label'] == 'Port Scan'].drop(['Label_binary','Label'], axis=1).iloc[:,0:500]\n",
    "# print(portscan_attack.shape)\n",
    "ddos_attack = df_2018[df_2018['Label'] == 'ddos'].drop(['Label_binary','Label'], axis=1).iloc[:,0:500]\n",
    "print(ddos_attack.shape)\n",
    "bruteforce_attack = df_2018[df_2018['Label'] == 'Brute Force'].drop(['Label_binary','Label'], axis=1).iloc[:,0:500]\n",
    "print(bruteforce_attack.shape)\n",
    "dos_attack = df_2018[df_2018['Label'] == 'DoS'].drop(['Label_binary','Label'], axis=1).iloc[:,0:500]\n",
    "print(dos_attack.shape)\n",
    "web_attack = df_2018[df_2018['Label'] == 'Web Attack'].drop(['Label_binary','Label'], axis=1).iloc[:,0:500]\n",
    "print(web_attack.shape)\n",
    "benign_data = df_2018[df_2018['Label'] == 'Benign'].drop(['Label_binary','Label'], axis=1).iloc[:,0:500]\n",
    "print(benign_data.shape)"
   ]
  },
  {
   "cell_type": "code",
   "execution_count": null,
   "id": "8e4afe64",
   "metadata": {},
   "outputs": [],
   "source": [
    "recon_inf = model.predict(infiltration_attack)\n",
    "recon_dos = model.predict(dos_attack)\n",
    "recon_ddos = model.predict(ddos_attack)\n",
    "recon_web = model.predict(web_attack)\n",
    "recon_brute = model.predict(bruteforce_attack)\n",
    "recon_ben = model.predict(benign_data)"
   ]
  },
  {
   "cell_type": "code",
   "execution_count": null,
   "id": "8568e7c4",
   "metadata": {},
   "outputs": [],
   "source": [
    "mae_byte_list = recon_metrices(benign_data,recon_ben)"
   ]
  },
  {
   "cell_type": "code",
   "execution_count": null,
   "id": "d88fa226",
   "metadata": {},
   "outputs": [],
   "source": [
    "## Classification\n",
    "count_99 = len([i for i in mae_byte_list if i > 0.09])\n",
    "print(count_99 / len(mae_byte_list))"
   ]
  },
  {
   "cell_type": "code",
   "execution_count": null,
   "id": "8c2731d8",
   "metadata": {},
   "outputs": [],
   "source": []
  },
  {
   "cell_type": "code",
   "execution_count": null,
   "id": "b8f581ca",
   "metadata": {},
   "outputs": [],
   "source": []
  }
 ],
 "metadata": {
  "kernelspec": {
   "display_name": "Python 3",
   "language": "python",
   "name": "python3"
  },
  "language_info": {
   "codemirror_mode": {
    "name": "ipython",
    "version": 3
   },
   "file_extension": ".py",
   "mimetype": "text/x-python",
   "name": "python",
   "nbconvert_exporter": "python",
   "pygments_lexer": "ipython3",
   "version": "3.8.5"
  }
 },
 "nbformat": 4,
 "nbformat_minor": 5
}
