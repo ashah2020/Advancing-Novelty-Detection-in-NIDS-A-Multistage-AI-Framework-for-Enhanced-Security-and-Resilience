{
 "cells": [
  {
   "cell_type": "code",
   "execution_count": null,
   "id": "7ae33d07",
   "metadata": {},
   "outputs": [],
   "source": [
    "## Import Libraries\n",
    "import datetime\n",
    "import pandas as pd\n",
    "import numpy as np\n",
    "import matplotlib.pyplot as plt\n",
    "import tensorflow as tf\n",
    "import random\n",
    "import torch\n",
    "import seaborn as sns\n",
    "from collections import Counter\n",
    "from sklearn.model_selection import train_test_split\n",
    "from tensorflow.keras import Sequential,layers, losses, optimizers\n",
    "from tensorflow.keras.layers import Dense"
   ]
  },
  {
   "cell_type": "code",
   "execution_count": null,
   "id": "75cae436",
   "metadata": {},
   "outputs": [],
   "source": [
    "## Loading the CICIDS 2017 dataset\n",
    "df_test1 = pd.read_csv(\"Anomaly_detector_testing_data.csv\")"
   ]
  },
  {
   "cell_type": "code",
   "execution_count": null,
   "id": "906f3a90",
   "metadata": {},
   "outputs": [],
   "source": [
    "## Test benign data\n",
    "df_test = df_test1[df_test1['Label'] == 'Benign']"
   ]
  },
  {
   "cell_type": "code",
   "execution_count": null,
   "id": "28aca0ee",
   "metadata": {},
   "outputs": [],
   "source": [
    "df_test = df_test.iloc[:, 0:200]"
   ]
  },
  {
   "cell_type": "code",
   "execution_count": null,
   "id": "16b07867",
   "metadata": {},
   "outputs": [],
   "source": [
    "## Loading benign data from CICIDS 2017 dataset\n",
    "df1 = pd.read_pickle(\"Anomaly_detector_training_data.pkl\")"
   ]
  },
  {
   "cell_type": "code",
   "execution_count": null,
   "id": "c6d951f9",
   "metadata": {},
   "outputs": [],
   "source": [
    "## Normalizing the values\n",
    "benign_data = df1.iloc[:,0:200]/255"
   ]
  },
  {
   "cell_type": "code",
   "execution_count": null,
   "id": "7ea7bd53",
   "metadata": {},
   "outputs": [],
   "source": [
    "benign_data"
   ]
  },
  {
   "cell_type": "code",
   "execution_count": null,
   "id": "6059231d",
   "metadata": {},
   "outputs": [],
   "source": [
    "from keras.layers import LeakyReLU"
   ]
  },
  {
   "cell_type": "code",
   "execution_count": null,
   "id": "38410b82",
   "metadata": {},
   "outputs": [],
   "source": [
    "## Architecture of the baseline model\n",
    "tf.random.set_seed(2)\n",
    "input_dims = 200\n",
    "model = Sequential()\n",
    "model.add(Dense(input_dims, input_shape = (input_dims, )))\n",
    "model.add(Dense(150))\n",
    "model.add(LeakyReLU(alpha=0.05))\n",
    "model.add(Dense(150))\n",
    "model.add(LeakyReLU(alpha=0.05))\n",
    "model.add(Dense(input_dims // 2, activation='relu'))\n",
    "model.add(Dense(input_dims // 4, activation='relu'))\n",
    "model.add(Dense(input_dims // 8, activation='relu'))\n",
    "model.add(Dense(12, activation='relu'))\n",
    "model.add(Dense(6, activation='relu'))\n",
    "model.add(Dense(12, activation='relu'))\n",
    "model.add(Dense(input_dims // 8, activation='relu'))\n",
    "model.add(Dense(input_dims // 4, activation='relu'))\n",
    "model.add(Dense(input_dims // 2))\n",
    "model.add(Dense(150))\n",
    "model.add(LeakyReLU(alpha=0.05))\n",
    "model.add(Dense(150))\n",
    "model.add(LeakyReLU(alpha=0.05))\n",
    "model.add(Dense(input_dims, activation='relu'))"
   ]
  },
  {
   "cell_type": "code",
   "execution_count": null,
   "id": "5177439f",
   "metadata": {},
   "outputs": [],
   "source": [
    "## Compilation and fitting\n",
    "model.compile(optimizer='adam', loss='mae')\n",
    "model.fit(benign_data , benign_data , batch_size=256, epochs=500, shuffle=True)"
   ]
  },
  {
   "cell_type": "code",
   "execution_count": null,
   "id": "19b9021d",
   "metadata": {},
   "outputs": [],
   "source": [
    "## Saving the baseline autoencoder model\n",
    "model.save('Anomaly_detector_baseline.h5')"
   ]
  },
  {
   "cell_type": "code",
   "execution_count": null,
   "id": "30838768",
   "metadata": {},
   "outputs": [],
   "source": [
    "## Loading the autoencoder baseline model\n",
    "from tensorflow.keras.models import load_model\n",
    "\n",
    "model = load_model('Anomaly_detector_baseline.h5', compile = False)"
   ]
  },
  {
   "cell_type": "code",
   "execution_count": null,
   "id": "7356fe87",
   "metadata": {},
   "outputs": [],
   "source": [
    "### Threshold Construction"
   ]
  },
  {
   "cell_type": "code",
   "execution_count": null,
   "id": "9914db94",
   "metadata": {},
   "outputs": [],
   "source": [
    "## Pbre metric\n",
    "def recon_metrices(data, reconstructed_data):\n",
    "\n",
    "    maes = np.absolute(data.values - reconstructed_data)\n",
    "    \n",
    "    for j in range(len(maes)):\n",
    "        m = maes[j]\n",
    "        d = data.values[j]\n",
    "        r = reconstructed_data[j]\n",
    "        for el in range(len(m)):\n",
    "            if r[el] == 0 or d[el] == 0:\n",
    "                m[el] = 0\n",
    " \n",
    "            \n",
    "    mae_byte_list = []\n",
    "    ip_mae_list = []\n",
    "    tcp_header_mae_list = []\n",
    "    tcp_options_mae_list = []\n",
    "    tcp_segment_mae_list = []\n",
    "    i=0\n",
    "    for mae in maes:\n",
    "#         print(np.count_nonzero(reconstructed_data[i]))\n",
    "#         print(np.count_nonzero(data.values[i]))\n",
    "#         print(np.max(np.count_nonzero(reconstructed_data[i]),np.count_nonzero(data.values[i])))\n",
    "        mae_byte = sum(mae) / np.count_nonzero(mae)\n",
    "        mae_byte_list.append(mae_byte)\n",
    "        i += 1\n",
    "    return mae_byte_list"
   ]
  },
  {
   "cell_type": "code",
   "execution_count": null,
   "id": "fd26b88c",
   "metadata": {},
   "outputs": [],
   "source": [
    "df_test.columns = df1.columns[0:200]"
   ]
  },
  {
   "cell_type": "code",
   "execution_count": null,
   "id": "d58014ef",
   "metadata": {},
   "outputs": [],
   "source": [
    "recon_ben = model.predict(df_test)"
   ]
  },
  {
   "cell_type": "code",
   "execution_count": null,
   "id": "bf2d66d9",
   "metadata": {},
   "outputs": [],
   "source": [
    "mae_byte_list = recon_metrices(df_test,recon_ben)"
   ]
  },
  {
   "cell_type": "code",
   "execution_count": null,
   "id": "826e29cd",
   "metadata": {},
   "outputs": [],
   "source": [
    "## Thresholds on 99,95,90 percentile of benign data\n",
    "mae_byte_avg = sum(mae_byte_list) / len(mae_byte_list)\n",
    "print('mae_byte_avg', mae_byte_avg)\n",
    "mae_byte_per_95 = np.percentile(mae_byte_list, 99)\n",
    "print('mae_byte_99_percentile', mae_byte_per_95)\n",
    "mae_byte_per_95 = np.percentile(mae_byte_list, 95)\n",
    "print('mae_byte_95_percentile', mae_byte_per_95)\n",
    "mae_byte_per_95 = np.percentile(mae_byte_list, 90)\n",
    "print('mae_byte_90_percentile', mae_byte_per_95)"
   ]
  },
  {
   "cell_type": "code",
   "execution_count": null,
   "id": "a4bd3803",
   "metadata": {},
   "outputs": [],
   "source": [
    "## Thresholds on 98 percentile of benign data\n",
    "mae_byte_avg = sum(mae_byte_list) / len(mae_byte_list)\n",
    "print('mae_byte_avg', mae_byte_avg)\n",
    "mae_byte_per_95 = np.percentile(mae_byte_list, 98)"
   ]
  },
  {
   "cell_type": "code",
   "execution_count": null,
   "id": "cba03b01",
   "metadata": {},
   "outputs": [],
   "source": [
    "## CICIDS2017 Testing"
   ]
  },
  {
   "cell_type": "code",
   "execution_count": null,
   "id": "2a355101",
   "metadata": {},
   "outputs": [],
   "source": [
    "test_ben = benign_data.sample(frac = 0.2, random_state = 2).reset_index(drop = True)"
   ]
  },
  {
   "cell_type": "code",
   "execution_count": null,
   "id": "becdf340",
   "metadata": {},
   "outputs": [],
   "source": [
    "recon_ben = model.predict(test_ben)"
   ]
  },
  {
   "cell_type": "code",
   "execution_count": null,
   "id": "a2e19999",
   "metadata": {},
   "outputs": [],
   "source": [
    "mae_byte_list = recon_metrices(test_ben,recon_ben)"
   ]
  },
  {
   "cell_type": "code",
   "execution_count": null,
   "id": "9bcb24bd",
   "metadata": {},
   "outputs": [],
   "source": [
    "## Classification\n",
    "count_99 = len([i for i in mae_byte_list if i > 0.089])\n",
    "print(count_99 / len(mae_byte_list))"
   ]
  },
  {
   "cell_type": "code",
   "execution_count": null,
   "id": "af46986f",
   "metadata": {},
   "outputs": [],
   "source": [
    "## Testing the Baseline autoencoder model against attack benign data from CICIDS 2018 and CICIDS 2017"
   ]
  },
  {
   "cell_type": "code",
   "execution_count": null,
   "id": "965762a4",
   "metadata": {},
   "outputs": [],
   "source": [
    "infiltration_attack = df_test1[df_test1['Label'] == 'Infiltration'].drop(['Label_binary','Label'], axis=1).iloc[:,0:200]\n",
    "print(infiltration_attack.shape)\n",
    "portscan_attack = df_test1[df_test1['Label'] == 'Port Scan'].drop(['Label_binary','Label'], axis=1).iloc[:,0:200]\n",
    "print(portscan_attack.shape)\n",
    "ddos_attack = df_test1[df_test1['Label'] == 'DDoS'].drop(['Label_binary','Label'], axis=1).iloc[:,0:200]\n",
    "print(ddos_attack.shape)\n",
    "bruteforce_attack = df_test1[df_test1['Label'] == 'Brute Force'].drop(['Label_binary','Label'], axis=1).iloc[:,0:200]\n",
    "print(bruteforce_attack.shape)\n",
    "dos_attack = df_test1[df_test1['Label'] == 'DoS'].drop(['Label_binary','Label'], axis=1).iloc[:,0:200]\n",
    "print(dos_attack.shape)\n",
    "web_attack = df_test1[df_test1['Label'] == 'Web Attack'].drop(['Label_binary','Label'], axis=1).iloc[:,0:200]\n",
    "print(web_attack.shape)"
   ]
  },
  {
   "cell_type": "code",
   "execution_count": null,
   "id": "694f29bc",
   "metadata": {},
   "outputs": [],
   "source": [
    "inf_ = model.predict(infiltration_attack)\n",
    "port_ = model.predict(portscan_attack)\n",
    "dos_ = model.predict(dos_attack)\n",
    "ddos_ = model.predict(ddos_attack)\n",
    "brute_ = model.predict(bruteforce_attack)\n",
    "web_ = model.predict(web_attack)"
   ]
  },
  {
   "cell_type": "code",
   "execution_count": null,
   "id": "e4fb417b",
   "metadata": {},
   "outputs": [],
   "source": [
    "mae_byte_list_inf  = recon_metrices(web_attack,web_)"
   ]
  },
  {
   "cell_type": "code",
   "execution_count": null,
   "id": "61f6af1a",
   "metadata": {},
   "outputs": [],
   "source": [
    "## Classification\n",
    "count_99 = len([i for i in mae_byte_list_inf if i > 0.09])\n",
    "print(count_99 / len(mae_byte_list_inf))"
   ]
  },
  {
   "cell_type": "code",
   "execution_count": null,
   "id": "7a652dcd",
   "metadata": {},
   "outputs": [],
   "source": [
    "## CICIDS 2018 Testing"
   ]
  },
  {
   "cell_type": "code",
   "execution_count": null,
   "id": "ebaea4af",
   "metadata": {},
   "outputs": [],
   "source": [
    "df_test_2018 = pd.read_csv(\"all_group_train_normalized_2018.csv\")"
   ]
  },
  {
   "cell_type": "code",
   "execution_count": null,
   "id": "39cec355",
   "metadata": {},
   "outputs": [],
   "source": [
    "df_test_2018"
   ]
  },
  {
   "cell_type": "code",
   "execution_count": null,
   "id": "93882bd8",
   "metadata": {},
   "outputs": [],
   "source": [
    "infiltration_attack = df_test_2018[df_test_2018['Label'] == 'Infiltration'].drop(['Label_binary','Label'], axis=1).iloc[:,0:200]\n",
    "print(infiltration_attack.shape)\n",
    "portscan_attack = df_test_2018[df_test_2018['Label'] == 'Port Scan'].drop(['Label_binary','Label'], axis=1).iloc[:,0:200]\n",
    "print(portscan_attack.shape)\n",
    "ddos_attack = df_test_2018[df_test_2018['Label'] == 'ddos'].drop(['Label_binary','Label'], axis=1).iloc[:,0:200]\n",
    "print(ddos_attack.shape)\n",
    "bruteforce_attack = df_test_2018[df_test_2018['Label'] == 'Brute Force'].drop(['Label_binary','Label'], axis=1).iloc[:,0:200]\n",
    "print(bruteforce_attack.shape)\n",
    "dos_attack = df_test_2018[df_test_2018['Label'] == 'DoS'].drop(['Label_binary','Label'], axis=1).iloc[:,0:200]\n",
    "print(dos_attack.shape)\n",
    "web_attack = df_test_2018[df_test_2018['Label'] == 'Web Attack'].drop(['Label_binary','Label'], axis=1).iloc[:,0:200]\n",
    "print(web_attack.shape)\n",
    "benign_2018 = df_test_2018[df_test_2018['Label'] == 'Benign'].drop(['Label_binary','Label'], axis=1).iloc[:,0:200]\n",
    "print(benign_2018.shape)"
   ]
  },
  {
   "cell_type": "code",
   "execution_count": null,
   "id": "8a6ff3b8",
   "metadata": {},
   "outputs": [],
   "source": [
    "inf_ = model.predict(infiltration_attack)\n",
    "dos_ = model.predict(dos_attack)\n",
    "ddos_ = model.predict(ddos_attack)\n",
    "brute_ = model.predict(bruteforce_attack)\n",
    "web_ = model.predict(web_attack)\n",
    "benign_ = model.predict(benign_2018)"
   ]
  },
  {
   "cell_type": "code",
   "execution_count": null,
   "id": "c01e8351",
   "metadata": {},
   "outputs": [],
   "source": [
    "mae_byte_list_inf  = recon_metrices(web_attack,web_)"
   ]
  },
  {
   "cell_type": "code",
   "execution_count": null,
   "id": "81c489e2",
   "metadata": {},
   "outputs": [],
   "source": [
    "## Classification\n",
    "count_99 = len([i for i in mae_byte_list_inf if i > 0.09])\n",
    "print(count_99 / len(mae_byte_list_inf))"
   ]
  },
  {
   "cell_type": "code",
   "execution_count": null,
   "id": "a1e21f23",
   "metadata": {},
   "outputs": [],
   "source": [
    "## Testing against different adversarial data"
   ]
  },
  {
   "cell_type": "code",
   "execution_count": null,
   "id": "2d0821d1",
   "metadata": {},
   "outputs": [],
   "source": [
    "adv_all = pd.read_csv(\"adv_examples_all_allDNN_bigger.csv\")"
   ]
  },
  {
   "cell_type": "code",
   "execution_count": null,
   "id": "c3d7d0fa",
   "metadata": {},
   "outputs": [],
   "source": [
    "adv_random = pd.read_csv(\"Adv_all_DNN_truerandom.csv\")"
   ]
  },
  {
   "cell_type": "code",
   "execution_count": null,
   "id": "ad3e5a64",
   "metadata": {},
   "outputs": [],
   "source": [
    "adv_random = adv_random.loc[:, ~adv_random.columns.str.contains('^Unnamed')]"
   ]
  },
  {
   "cell_type": "code",
   "execution_count": null,
   "id": "96be3575",
   "metadata": {},
   "outputs": [],
   "source": [
    "adv_ = adv_random.iloc[:,0:200]/256"
   ]
  },
  {
   "cell_type": "code",
   "execution_count": null,
   "id": "81a2c1d3",
   "metadata": {},
   "outputs": [],
   "source": [
    "recon_adv = model.predict(adv_)"
   ]
  },
  {
   "cell_type": "code",
   "execution_count": null,
   "id": "5c7d443d",
   "metadata": {},
   "outputs": [],
   "source": [
    "mae_byte_list_adv = recon_metrices(adv_,recon_adv)"
   ]
  },
  {
   "cell_type": "code",
   "execution_count": null,
   "id": "0cd1bbf0",
   "metadata": {},
   "outputs": [],
   "source": [
    "mae_byte_avg = sum(mae_byte_list_adv) / len(mae_byte_list_adv)\n",
    "print('mae_byte_avg', mae_byte_avg)\n",
    "mae_byte_per_95 = np.percentile(mae_byte_list_adv, 99)\n",
    "print('mae_byte_99_percentile', mae_byte_per_95)\n",
    "mae_byte_per_95 = np.percentile(mae_byte_list_adv, 95)\n",
    "print('mae_byte_95_percentile', mae_byte_per_95)\n",
    "mae_byte_per_95 = np.percentile(mae_byte_list_adv, 90)\n",
    "print('mae_byte_90_percentile', mae_byte_per_95)"
   ]
  },
  {
   "cell_type": "code",
   "execution_count": null,
   "id": "f2f4364e",
   "metadata": {},
   "outputs": [],
   "source": [
    "## Classification\n",
    "count_99 = len([i for i in mae_byte_list_adv if i > 0.09])\n",
    "print(count_99 / len(mae_byte_list_adv))"
   ]
  },
  {
   "cell_type": "code",
   "execution_count": null,
   "id": "a3526e25",
   "metadata": {},
   "outputs": [],
   "source": [
    "infiltration_attack = df_test1[df_test1['Label'] == 'Infiltration'].drop(['Label_binary','Label'], axis=1).iloc[:,0:200]\n",
    "print(infiltration_attack.shape)\n",
    "portscan_attack = df_test1[df_test1['Label'] == 'Port Scan'].drop(['Label_binary','Label'], axis=1).iloc[:,0:200]\n",
    "print(portscan_attack.shape)\n",
    "ddos_attack = df_test1[df_test1['Label'] == 'DDoS'].drop(['Label_binary','Label'], axis=1).iloc[:,0:200]\n",
    "print(ddos_attack.shape)\n",
    "bruteforce_attack = df_test1[df_test1['Label'] == 'Brute Force'].drop(['Label_binary','Label'], axis=1).iloc[:,0:200]\n",
    "print(bruteforce_attack.shape)\n",
    "dos_attack = df_test1[df_test1['Label'] == 'DoS'].drop(['Label_binary','Label'], axis=1).iloc[:,0:200]\n",
    "print(dos_attack.shape)\n",
    "web_attack = df_test1[df_test1['Label'] == 'Web Attack'].drop(['Label_binary','Label'], axis=1).iloc[:,0:200]\n",
    "print(web_attack.shape)"
   ]
  },
  {
   "cell_type": "code",
   "execution_count": null,
   "id": "32505ea0",
   "metadata": {},
   "outputs": [],
   "source": [
    "recon_inf = model.predict(infiltration_attack)\n",
    "recon_port = model.predict(portscan_attack)\n",
    "recon_dos = model.predict(dos_attack)\n",
    "recon_ddos = model.predict(ddos_attack)"
   ]
  },
  {
   "cell_type": "code",
   "execution_count": null,
   "id": "7e242027",
   "metadata": {},
   "outputs": [],
   "source": [
    "mae_byte_list_inf = recon_metrices(infiltration_attack,recon_inf)\n",
    "mae_byte_list_port = recon_metrices(portscan_attack,recon_port)\n",
    "mae_byte_list_dos = recon_metrices(dos_attack,recon_dos)\n",
    "mae_byte_list_ddos = recon_metrices(ddos_attack,recon_ddos)"
   ]
  },
  {
   "cell_type": "code",
   "execution_count": null,
   "id": "08f62105",
   "metadata": {},
   "outputs": [],
   "source": [
    "## Classification\n",
    "count_99 = len([i for i in mae_byte_list_inf if i > 0.13])\n",
    "print(count_99 / len(mae_byte_list_inf))"
   ]
  },
  {
   "cell_type": "code",
   "execution_count": null,
   "id": "5fdb723b",
   "metadata": {},
   "outputs": [],
   "source": [
    "## Classification\n",
    "count_99 = len([i for i in mae_byte_list_port if i > 0.09])\n",
    "print(count_99 / len(mae_byte_list_port))"
   ]
  },
  {
   "cell_type": "code",
   "execution_count": null,
   "id": "a1f461ac",
   "metadata": {},
   "outputs": [],
   "source": [
    "## Classification\n",
    "count_99 = len([i for i in mae_byte_list_dos if i > 0.09])\n",
    "print(count_99 / len(mae_byte_list_dos))"
   ]
  },
  {
   "cell_type": "code",
   "execution_count": null,
   "id": "0ab5a6e4",
   "metadata": {},
   "outputs": [],
   "source": [
    "## Classification\n",
    "count_99 = len([i for i in mae_byte_list_ddos if i > 0.09])\n",
    "print(count_99 / len(mae_byte_list_ddos))"
   ]
  },
  {
   "cell_type": "code",
   "execution_count": null,
   "id": "76278176",
   "metadata": {},
   "outputs": [],
   "source": []
  }
 ],
 "metadata": {
  "kernelspec": {
   "display_name": "Python 3",
   "language": "python",
   "name": "python3"
  },
  "language_info": {
   "codemirror_mode": {
    "name": "ipython",
    "version": 3
   },
   "file_extension": ".py",
   "mimetype": "text/x-python",
   "name": "python",
   "nbconvert_exporter": "python",
   "pygments_lexer": "ipython3",
   "version": "3.8.5"
  }
 },
 "nbformat": 4,
 "nbformat_minor": 5
}
